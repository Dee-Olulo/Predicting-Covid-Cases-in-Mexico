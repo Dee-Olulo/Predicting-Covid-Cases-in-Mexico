{
 "cells": [
  {
   "cell_type": "markdown",
   "metadata": {},
   "source": [
    "# Predicting-Covid-Cases-in-Mexico"
   ]
  },
  {
   "cell_type": "markdown",
   "metadata": {},
   "source": [
    "## Business Understanding\n",
    "\n",
    "### Problem Statement\n",
    "\n",
    "The Ministry of Health is struggling to manage the escalating COVID-19 pandemic amid rising cases and limited resources in Mexico. Predictive analysis is urgently needed to inform public health interventions optimize hospital management strategies and  ensure early detection of the virus to provide containment and isolations to the affected. \n",
    "\n",
    "**Stakeholder:**\n",
    "The Ministry of Health\n",
    "\n",
    "**Objectives**\n",
    "\n",
    "Identify key factors influencing the rise in Covid-19 cases.\n",
    "\n",
    "Develop a predictive machine learning model to identify factors that may contribute to an increase in positive Covid-19 cases.\n",
    "\n",
    "Provide insights and recommendation.\n",
    "\n",
    "\n",
    "#### **The following conclusions were drawn**\n",
    "\n",
    "**Early Detection and Containment:**\n",
    "Age: Prioritizing vaccination for older adults is critical since age is a significant predictor of severe COVID-19 outcomes. This strategy can reduce mortality rates and the burden on healthcare systems.\n",
    "\n",
    " **Date Symptoms First Appeared:** Implementing aggressive testing and contact tracing for individuals reporting early onset of symptoms can swiftly identify and isolate positive cases, curbing the spread of the virus.\n",
    " \n",
    " **Patient Type (Inpatient):** Allocating hospital beds and ventilators to facilities with a higher proportion of inpatients ensures that resources are directed where they are most needed. Ensuring these hospitals are adequately staffed with specialized healthcare professionals will improve patient care and outcomes.\n",
    " \n",
    " **Mortality:** Conducting thorough reviews of mortality cases can identify factors leading to severe outcomes, allowing the Ministry of Health to refine and enhance treatment protocols, ultimately improving patient survival rates.\n",
    " \n",
    " **Respiratory Support for Severe Cases**\n",
    "Pneumonia (Yes): Providing adequate respiratory support, including supplemental oxygen and ventilators, for patients with pneumonia is essential. This measure can significantly improve patient outcomes and reduce the severity of the disease\n",
    "\n"
   ]
  },
  {
   "cell_type": "markdown",
   "metadata": {},
   "source": [
    "## Data Understanding\n",
    "\n",
    "The dataset contains 10,000 entries (rows) and 23 columns.This dataset contains information about COVID-19 patients, including demographic information, medical history, symptoms, test results, and outcomes\n",
    "\n",
    "The column names and their descriptions are as follows:\n",
    "\n",
    "**id**:\tCase identifier number\n",
    "\n",
    "**sex**:\tIdentifies the sex of the patient.\n",
    "\n",
    "**patient_type**:\tIdentifies the type of care received by the patient in the unit. It is called an outpatient if you returned home or it is called an inpatient if you were admitted to hospital.\n",
    "\n",
    "**entry_date**:\tIdentifies the date of the patient's admission to the care unit.\n",
    "\n",
    "**date_symptoms**:\tIdentifies the date on which the patient's symptoms began.\n",
    "\n",
    "**date_died**:\tIdentifies the date the patient died. (Missing data means patient did not die)\n",
    "\n",
    "**intubed**:\tIdentifies if the patient required intubation.\n",
    "\n",
    "**pneumonia**:\tIdentifies if the patient was diagnosed with pneumonia.\n",
    "\n",
    "**age**: Identifies the age of the patient.\n",
    "\n",
    "**pregnancy**: Identifies if the patient is pregnant.\n",
    "\n",
    "**diabetes**: Identifies if the patient has a diagnosis of diabetes.\n",
    "\n",
    "**copd**: Identifies if the patient has a diagnosis of COPD.\n",
    "\n",
    "**asthma**:\tIdentifies if the patient has a diagnosis of asthma.\n",
    "\n",
    "**inmsupr**: Identifies if the patient has immunosuppression.\n",
    "\n",
    "**hypertension**: Identifies if the patient has a diagnosis of hypertension.\n",
    "\n",
    "**other_disease**:\tIdentifies if the patient has a diagnosis of other diseases.\n",
    "\n",
    "**cardiovascular**:\tIdentifies if the patient has a diagnosis of cardiovascular disease.\n",
    "\n",
    "**obesity**: Identifies if the patient is diagnosed with obesity.\n",
    "\n",
    "**renal_chronic**:\tIdentifies if the patient has a diagnosis of chronic kidney failure.\n",
    "\n",
    "**tobacco**: Identify if the patient has a smoking habit.\n",
    "\n",
    "**contact_other_covid**: Identify if the patient had contact with any other case diagnosed with SARS CoV-2\n",
    "\n",
    "**covid_res**: Identifies the result of the analysis of the sample reported by the laboratory\n",
    "\n",
    "**icu**: Identifies if the patient required to enter an Intensive Care Unit.\n"
   ]
  },
  {
   "cell_type": "markdown",
   "metadata": {},
   "source": [
    "## Data Preparation\n",
    "Importing libraries\n",
    "Before we embark on our journey through the housing market analysis, it's essential to equip ourselves with a comprehensive set of data science tools. Our toolkit includes numpy and pandas for advanced data handling, matplotlib and seaborn for engaging\n",
    "visualization,  and a collection of sklearn features for data preprocessing, creation,\n",
    "machine learning implementation, and performance evaluation.\n",
    "\n"
   ]
  },
  {
   "cell_type": "code",
   "execution_count": 1,
   "metadata": {},
   "outputs": [],
   "source": [
    "import pandas as pd \n",
    "import numpy as np \n",
    "import seaborn as sns\n",
    "import matplotlib.pyplot as plt\n",
    "%matplotlib inline\n",
    "import warnings\n",
    "from sklearn.preprocessing import OneHotEncoder,StandardScaler, FunctionTransformer,  label_binarize\n",
    "from sklearn.model_selection import train_test_split, cross_val_score\n",
    "from sklearn.metrics import precision_score, recall_score, accuracy_score,f1_score, classification_report\n",
    "from sklearn.impute import SimpleImputer\n",
    "from sklearn.metrics import roc_curve, roc_auc_score, auc\n",
    "from sklearn.compose import ColumnTransformer\n",
    "from sklearn.pipeline import Pipeline as ImbPipeline\n",
    "from sklearn.linear_model import LogisticRegression\n",
    "from  sklearn.tree import DecisionTreeClassifier\n",
    "from sklearn.model_selection import GridSearchCV\n",
    "from imblearn.over_sampling import SMOTE\n",
    "from sklearn.metrics import ConfusionMatrixDisplay ,confusion_matrix\n",
    "from sklearn.ensemble import RandomForestClassifier\n",
    "from sklearn.ensemble import BaggingClassifier\n",
    "from sklearn.ensemble import RandomForestClassifier\n",
    "from sklearn.model_selection import RandomizedSearchCV\n",
    "from sklearn.tree import DecisionTreeClassifier\n",
    "from scipy.stats import randint\n",
    "from scipy.stats import uniform"
   ]
  },
  {
   "cell_type": "markdown",
   "metadata": {},
   "source": [
    "**Importing the dataset**: \n",
    "To kick off our  predictive analysis of covid , we start by importing the dataset  from covid_mexico_data.xlsx using\n",
    "pandas, a powerful tool for data manipulation.We create a copy of this dataset to preserve the original data, allowing us to explore and manipulate the data without altering the\n",
    "source.\n",
    "Next, we preview the dataset to familiarize ourselves with its structure. Viewing the last entries with df.head() gives us insight into the\n",
    "top 5 rows and df.tail() gives us the last 5 rows"
   ]
  },
  {
   "cell_type": "code",
   "execution_count": 2,
   "metadata": {},
   "outputs": [
    {
     "data": {
      "text/html": [
       "<div>\n",
       "<style scoped>\n",
       "    .dataframe tbody tr th:only-of-type {\n",
       "        vertical-align: middle;\n",
       "    }\n",
       "\n",
       "    .dataframe tbody tr th {\n",
       "        vertical-align: top;\n",
       "    }\n",
       "\n",
       "    .dataframe thead th {\n",
       "        text-align: right;\n",
       "    }\n",
       "</style>\n",
       "<table border=\"1\" class=\"dataframe\">\n",
       "  <thead>\n",
       "    <tr style=\"text-align: right;\">\n",
       "      <th></th>\n",
       "      <th>id</th>\n",
       "      <th>sex</th>\n",
       "      <th>patient_type</th>\n",
       "      <th>entry_date</th>\n",
       "      <th>date_symptoms</th>\n",
       "      <th>date_died</th>\n",
       "      <th>intubed</th>\n",
       "      <th>pneumonia</th>\n",
       "      <th>age</th>\n",
       "      <th>pregnancy</th>\n",
       "      <th>...</th>\n",
       "      <th>inmsupr</th>\n",
       "      <th>hypertension</th>\n",
       "      <th>other_disease</th>\n",
       "      <th>cardiovascular</th>\n",
       "      <th>obesity</th>\n",
       "      <th>renal_chronic</th>\n",
       "      <th>tobacco</th>\n",
       "      <th>contact_other_covid</th>\n",
       "      <th>covid_res</th>\n",
       "      <th>icu</th>\n",
       "    </tr>\n",
       "  </thead>\n",
       "  <tbody>\n",
       "    <tr>\n",
       "      <th>0</th>\n",
       "      <td>0dd249</td>\n",
       "      <td>Male</td>\n",
       "      <td>Outpatient</td>\n",
       "      <td>24-05-2020</td>\n",
       "      <td>18-05-2020</td>\n",
       "      <td>NaN</td>\n",
       "      <td>NaN</td>\n",
       "      <td>Yes</td>\n",
       "      <td>29</td>\n",
       "      <td>NaN</td>\n",
       "      <td>...</td>\n",
       "      <td>No</td>\n",
       "      <td>No</td>\n",
       "      <td>No</td>\n",
       "      <td>No</td>\n",
       "      <td>No</td>\n",
       "      <td>No</td>\n",
       "      <td>Yes</td>\n",
       "      <td>Yes</td>\n",
       "      <td>Negative</td>\n",
       "      <td>NaN</td>\n",
       "    </tr>\n",
       "    <tr>\n",
       "      <th>1</th>\n",
       "      <td>0957d9</td>\n",
       "      <td>Female</td>\n",
       "      <td>Outpatient</td>\n",
       "      <td>18-06-2020</td>\n",
       "      <td>16-06-2020</td>\n",
       "      <td>NaN</td>\n",
       "      <td>NaN</td>\n",
       "      <td>No</td>\n",
       "      <td>45</td>\n",
       "      <td>No</td>\n",
       "      <td>...</td>\n",
       "      <td>No</td>\n",
       "      <td>No</td>\n",
       "      <td>No</td>\n",
       "      <td>No</td>\n",
       "      <td>No</td>\n",
       "      <td>No</td>\n",
       "      <td>No</td>\n",
       "      <td>NaN</td>\n",
       "      <td>Negative</td>\n",
       "      <td>NaN</td>\n",
       "    </tr>\n",
       "    <tr>\n",
       "      <th>2</th>\n",
       "      <td>0ad2eb</td>\n",
       "      <td>Female</td>\n",
       "      <td>Outpatient</td>\n",
       "      <td>11-05-2020</td>\n",
       "      <td>11-05-2020</td>\n",
       "      <td>NaN</td>\n",
       "      <td>NaN</td>\n",
       "      <td>No</td>\n",
       "      <td>25</td>\n",
       "      <td>No</td>\n",
       "      <td>...</td>\n",
       "      <td>No</td>\n",
       "      <td>No</td>\n",
       "      <td>No</td>\n",
       "      <td>No</td>\n",
       "      <td>No</td>\n",
       "      <td>No</td>\n",
       "      <td>No</td>\n",
       "      <td>Yes</td>\n",
       "      <td>Negative</td>\n",
       "      <td>NaN</td>\n",
       "    </tr>\n",
       "    <tr>\n",
       "      <th>3</th>\n",
       "      <td>1646ba</td>\n",
       "      <td>Female</td>\n",
       "      <td>Outpatient</td>\n",
       "      <td>24-06-2020</td>\n",
       "      <td>19-06-2020</td>\n",
       "      <td>NaN</td>\n",
       "      <td>NaN</td>\n",
       "      <td>No</td>\n",
       "      <td>11</td>\n",
       "      <td>No</td>\n",
       "      <td>...</td>\n",
       "      <td>No</td>\n",
       "      <td>No</td>\n",
       "      <td>No</td>\n",
       "      <td>No</td>\n",
       "      <td>No</td>\n",
       "      <td>No</td>\n",
       "      <td>No</td>\n",
       "      <td>Yes</td>\n",
       "      <td>Positive</td>\n",
       "      <td>NaN</td>\n",
       "    </tr>\n",
       "    <tr>\n",
       "      <th>4</th>\n",
       "      <td>1e31dd</td>\n",
       "      <td>Male</td>\n",
       "      <td>Outpatient</td>\n",
       "      <td>17-05-2020</td>\n",
       "      <td>16-05-2020</td>\n",
       "      <td>NaN</td>\n",
       "      <td>NaN</td>\n",
       "      <td>No</td>\n",
       "      <td>28</td>\n",
       "      <td>NaN</td>\n",
       "      <td>...</td>\n",
       "      <td>No</td>\n",
       "      <td>No</td>\n",
       "      <td>No</td>\n",
       "      <td>No</td>\n",
       "      <td>No</td>\n",
       "      <td>No</td>\n",
       "      <td>No</td>\n",
       "      <td>Yes</td>\n",
       "      <td>Negative</td>\n",
       "      <td>NaN</td>\n",
       "    </tr>\n",
       "  </tbody>\n",
       "</table>\n",
       "<p>5 rows × 23 columns</p>\n",
       "</div>"
      ],
      "text/plain": [
       "       id     sex patient_type  entry_date date_symptoms date_died intubed  \\\n",
       "0  0dd249    Male   Outpatient  24-05-2020    18-05-2020       NaN     NaN   \n",
       "1  0957d9  Female   Outpatient  18-06-2020    16-06-2020       NaN     NaN   \n",
       "2  0ad2eb  Female   Outpatient  11-05-2020    11-05-2020       NaN     NaN   \n",
       "3  1646ba  Female   Outpatient  24-06-2020    19-06-2020       NaN     NaN   \n",
       "4  1e31dd    Male   Outpatient  17-05-2020    16-05-2020       NaN     NaN   \n",
       "\n",
       "  pneumonia  age pregnancy  ... inmsupr hypertension other_disease  \\\n",
       "0       Yes   29       NaN  ...      No           No            No   \n",
       "1        No   45        No  ...      No           No            No   \n",
       "2        No   25        No  ...      No           No            No   \n",
       "3        No   11        No  ...      No           No            No   \n",
       "4        No   28       NaN  ...      No           No            No   \n",
       "\n",
       "  cardiovascular obesity renal_chronic tobacco contact_other_covid covid_res  \\\n",
       "0             No      No            No     Yes                 Yes  Negative   \n",
       "1             No      No            No      No                 NaN  Negative   \n",
       "2             No      No            No      No                 Yes  Negative   \n",
       "3             No      No            No      No                 Yes  Positive   \n",
       "4             No      No            No      No                 Yes  Negative   \n",
       "\n",
       "   icu  \n",
       "0  NaN  \n",
       "1  NaN  \n",
       "2  NaN  \n",
       "3  NaN  \n",
       "4  NaN  \n",
       "\n",
       "[5 rows x 23 columns]"
      ]
     },
     "execution_count": 2,
     "metadata": {},
     "output_type": "execute_result"
    }
   ],
   "source": [
    "data = pd.read_excel('covid_mexico_data.xlsx')\n",
    "data.head()"
   ]
  },
  {
   "cell_type": "markdown",
   "metadata": {},
   "source": [
    "### Data Preview\n",
    "Provides a quick glance at the structure and contents of the dataset, offering insights into the columns, data types, missing values, and potential issues like class imbalance. Understanding these aspects helps in planning appropriate data preparation steps, such as handling missing values. This dataset contains 10,000 entries (rows) and 23 columns. Most columns have non-null values, but some columns have missing values, such as \"date_died,\" \"intubed,\" \"pregnancy,\" etc. The data types vary across columns, with most columns being of type object (likely strings) and one column, \"age,\" being of type int64 (integer)."
   ]
  },
  {
   "cell_type": "code",
   "execution_count": 3,
   "metadata": {
    "scrolled": true
   },
   "outputs": [
    {
     "data": {
      "text/html": [
       "<div>\n",
       "<style scoped>\n",
       "    .dataframe tbody tr th:only-of-type {\n",
       "        vertical-align: middle;\n",
       "    }\n",
       "\n",
       "    .dataframe tbody tr th {\n",
       "        vertical-align: top;\n",
       "    }\n",
       "\n",
       "    .dataframe thead th {\n",
       "        text-align: right;\n",
       "    }\n",
       "</style>\n",
       "<table border=\"1\" class=\"dataframe\">\n",
       "  <thead>\n",
       "    <tr style=\"text-align: right;\">\n",
       "      <th></th>\n",
       "      <th>id</th>\n",
       "      <th>sex</th>\n",
       "      <th>patient_type</th>\n",
       "      <th>entry_date</th>\n",
       "      <th>date_symptoms</th>\n",
       "      <th>date_died</th>\n",
       "      <th>intubed</th>\n",
       "      <th>pneumonia</th>\n",
       "      <th>age</th>\n",
       "      <th>pregnancy</th>\n",
       "      <th>...</th>\n",
       "      <th>inmsupr</th>\n",
       "      <th>hypertension</th>\n",
       "      <th>other_disease</th>\n",
       "      <th>cardiovascular</th>\n",
       "      <th>obesity</th>\n",
       "      <th>renal_chronic</th>\n",
       "      <th>tobacco</th>\n",
       "      <th>contact_other_covid</th>\n",
       "      <th>covid_res</th>\n",
       "      <th>icu</th>\n",
       "    </tr>\n",
       "  </thead>\n",
       "  <tbody>\n",
       "    <tr>\n",
       "      <th>0</th>\n",
       "      <td>0dd249</td>\n",
       "      <td>Male</td>\n",
       "      <td>Outpatient</td>\n",
       "      <td>24-05-2020</td>\n",
       "      <td>18-05-2020</td>\n",
       "      <td>NaN</td>\n",
       "      <td>NaN</td>\n",
       "      <td>Yes</td>\n",
       "      <td>29</td>\n",
       "      <td>NaN</td>\n",
       "      <td>...</td>\n",
       "      <td>No</td>\n",
       "      <td>No</td>\n",
       "      <td>No</td>\n",
       "      <td>No</td>\n",
       "      <td>No</td>\n",
       "      <td>No</td>\n",
       "      <td>Yes</td>\n",
       "      <td>Yes</td>\n",
       "      <td>Negative</td>\n",
       "      <td>NaN</td>\n",
       "    </tr>\n",
       "    <tr>\n",
       "      <th>1</th>\n",
       "      <td>0957d9</td>\n",
       "      <td>Female</td>\n",
       "      <td>Outpatient</td>\n",
       "      <td>18-06-2020</td>\n",
       "      <td>16-06-2020</td>\n",
       "      <td>NaN</td>\n",
       "      <td>NaN</td>\n",
       "      <td>No</td>\n",
       "      <td>45</td>\n",
       "      <td>No</td>\n",
       "      <td>...</td>\n",
       "      <td>No</td>\n",
       "      <td>No</td>\n",
       "      <td>No</td>\n",
       "      <td>No</td>\n",
       "      <td>No</td>\n",
       "      <td>No</td>\n",
       "      <td>No</td>\n",
       "      <td>NaN</td>\n",
       "      <td>Negative</td>\n",
       "      <td>NaN</td>\n",
       "    </tr>\n",
       "    <tr>\n",
       "      <th>2</th>\n",
       "      <td>0ad2eb</td>\n",
       "      <td>Female</td>\n",
       "      <td>Outpatient</td>\n",
       "      <td>11-05-2020</td>\n",
       "      <td>11-05-2020</td>\n",
       "      <td>NaN</td>\n",
       "      <td>NaN</td>\n",
       "      <td>No</td>\n",
       "      <td>25</td>\n",
       "      <td>No</td>\n",
       "      <td>...</td>\n",
       "      <td>No</td>\n",
       "      <td>No</td>\n",
       "      <td>No</td>\n",
       "      <td>No</td>\n",
       "      <td>No</td>\n",
       "      <td>No</td>\n",
       "      <td>No</td>\n",
       "      <td>Yes</td>\n",
       "      <td>Negative</td>\n",
       "      <td>NaN</td>\n",
       "    </tr>\n",
       "    <tr>\n",
       "      <th>3</th>\n",
       "      <td>1646ba</td>\n",
       "      <td>Female</td>\n",
       "      <td>Outpatient</td>\n",
       "      <td>24-06-2020</td>\n",
       "      <td>19-06-2020</td>\n",
       "      <td>NaN</td>\n",
       "      <td>NaN</td>\n",
       "      <td>No</td>\n",
       "      <td>11</td>\n",
       "      <td>No</td>\n",
       "      <td>...</td>\n",
       "      <td>No</td>\n",
       "      <td>No</td>\n",
       "      <td>No</td>\n",
       "      <td>No</td>\n",
       "      <td>No</td>\n",
       "      <td>No</td>\n",
       "      <td>No</td>\n",
       "      <td>Yes</td>\n",
       "      <td>Positive</td>\n",
       "      <td>NaN</td>\n",
       "    </tr>\n",
       "    <tr>\n",
       "      <th>4</th>\n",
       "      <td>1e31dd</td>\n",
       "      <td>Male</td>\n",
       "      <td>Outpatient</td>\n",
       "      <td>17-05-2020</td>\n",
       "      <td>16-05-2020</td>\n",
       "      <td>NaN</td>\n",
       "      <td>NaN</td>\n",
       "      <td>No</td>\n",
       "      <td>28</td>\n",
       "      <td>NaN</td>\n",
       "      <td>...</td>\n",
       "      <td>No</td>\n",
       "      <td>No</td>\n",
       "      <td>No</td>\n",
       "      <td>No</td>\n",
       "      <td>No</td>\n",
       "      <td>No</td>\n",
       "      <td>No</td>\n",
       "      <td>Yes</td>\n",
       "      <td>Negative</td>\n",
       "      <td>NaN</td>\n",
       "    </tr>\n",
       "  </tbody>\n",
       "</table>\n",
       "<p>5 rows × 23 columns</p>\n",
       "</div>"
      ],
      "text/plain": [
       "       id     sex patient_type  entry_date date_symptoms date_died intubed  \\\n",
       "0  0dd249    Male   Outpatient  24-05-2020    18-05-2020       NaN     NaN   \n",
       "1  0957d9  Female   Outpatient  18-06-2020    16-06-2020       NaN     NaN   \n",
       "2  0ad2eb  Female   Outpatient  11-05-2020    11-05-2020       NaN     NaN   \n",
       "3  1646ba  Female   Outpatient  24-06-2020    19-06-2020       NaN     NaN   \n",
       "4  1e31dd    Male   Outpatient  17-05-2020    16-05-2020       NaN     NaN   \n",
       "\n",
       "  pneumonia  age pregnancy  ... inmsupr hypertension other_disease  \\\n",
       "0       Yes   29       NaN  ...      No           No            No   \n",
       "1        No   45        No  ...      No           No            No   \n",
       "2        No   25        No  ...      No           No            No   \n",
       "3        No   11        No  ...      No           No            No   \n",
       "4        No   28       NaN  ...      No           No            No   \n",
       "\n",
       "  cardiovascular obesity renal_chronic tobacco contact_other_covid covid_res  \\\n",
       "0             No      No            No     Yes                 Yes  Negative   \n",
       "1             No      No            No      No                 NaN  Negative   \n",
       "2             No      No            No      No                 Yes  Negative   \n",
       "3             No      No            No      No                 Yes  Positive   \n",
       "4             No      No            No      No                 Yes  Negative   \n",
       "\n",
       "   icu  \n",
       "0  NaN  \n",
       "1  NaN  \n",
       "2  NaN  \n",
       "3  NaN  \n",
       "4  NaN  \n",
       "\n",
       "[5 rows x 23 columns]"
      ]
     },
     "execution_count": 3,
     "metadata": {},
     "output_type": "execute_result"
    }
   ],
   "source": [
    "df = data.copy()\n",
    "#Viewing the last five rows\n",
    "df.head()"
   ]
  },
  {
   "cell_type": "code",
   "execution_count": 4,
   "metadata": {},
   "outputs": [
    {
     "data": {
      "text/html": [
       "<div>\n",
       "<style scoped>\n",
       "    .dataframe tbody tr th:only-of-type {\n",
       "        vertical-align: middle;\n",
       "    }\n",
       "\n",
       "    .dataframe tbody tr th {\n",
       "        vertical-align: top;\n",
       "    }\n",
       "\n",
       "    .dataframe thead th {\n",
       "        text-align: right;\n",
       "    }\n",
       "</style>\n",
       "<table border=\"1\" class=\"dataframe\">\n",
       "  <thead>\n",
       "    <tr style=\"text-align: right;\">\n",
       "      <th></th>\n",
       "      <th>id</th>\n",
       "      <th>sex</th>\n",
       "      <th>patient_type</th>\n",
       "      <th>entry_date</th>\n",
       "      <th>date_symptoms</th>\n",
       "      <th>date_died</th>\n",
       "      <th>intubed</th>\n",
       "      <th>pneumonia</th>\n",
       "      <th>age</th>\n",
       "      <th>pregnancy</th>\n",
       "      <th>...</th>\n",
       "      <th>inmsupr</th>\n",
       "      <th>hypertension</th>\n",
       "      <th>other_disease</th>\n",
       "      <th>cardiovascular</th>\n",
       "      <th>obesity</th>\n",
       "      <th>renal_chronic</th>\n",
       "      <th>tobacco</th>\n",
       "      <th>contact_other_covid</th>\n",
       "      <th>covid_res</th>\n",
       "      <th>icu</th>\n",
       "    </tr>\n",
       "  </thead>\n",
       "  <tbody>\n",
       "    <tr>\n",
       "      <th>9995</th>\n",
       "      <td>1b5791</td>\n",
       "      <td>Male</td>\n",
       "      <td>Outpatient</td>\n",
       "      <td>16-06-2020</td>\n",
       "      <td>15-06-2020</td>\n",
       "      <td>NaN</td>\n",
       "      <td>NaN</td>\n",
       "      <td>No</td>\n",
       "      <td>43</td>\n",
       "      <td>NaN</td>\n",
       "      <td>...</td>\n",
       "      <td>No</td>\n",
       "      <td>No</td>\n",
       "      <td>No</td>\n",
       "      <td>No</td>\n",
       "      <td>No</td>\n",
       "      <td>No</td>\n",
       "      <td>No</td>\n",
       "      <td>No</td>\n",
       "      <td>Negative</td>\n",
       "      <td>NaN</td>\n",
       "    </tr>\n",
       "    <tr>\n",
       "      <th>9996</th>\n",
       "      <td>15b33c</td>\n",
       "      <td>Male</td>\n",
       "      <td>Inpatient</td>\n",
       "      <td>05-05-2020</td>\n",
       "      <td>24-04-2020</td>\n",
       "      <td>NaN</td>\n",
       "      <td>No</td>\n",
       "      <td>Yes</td>\n",
       "      <td>31</td>\n",
       "      <td>NaN</td>\n",
       "      <td>...</td>\n",
       "      <td>No</td>\n",
       "      <td>No</td>\n",
       "      <td>No</td>\n",
       "      <td>No</td>\n",
       "      <td>No</td>\n",
       "      <td>No</td>\n",
       "      <td>No</td>\n",
       "      <td>No</td>\n",
       "      <td>Positive</td>\n",
       "      <td>No</td>\n",
       "    </tr>\n",
       "    <tr>\n",
       "      <th>9997</th>\n",
       "      <td>14fa3f</td>\n",
       "      <td>Male</td>\n",
       "      <td>Outpatient</td>\n",
       "      <td>26-05-2020</td>\n",
       "      <td>22-05-2020</td>\n",
       "      <td>NaN</td>\n",
       "      <td>NaN</td>\n",
       "      <td>No</td>\n",
       "      <td>24</td>\n",
       "      <td>NaN</td>\n",
       "      <td>...</td>\n",
       "      <td>No</td>\n",
       "      <td>No</td>\n",
       "      <td>No</td>\n",
       "      <td>No</td>\n",
       "      <td>No</td>\n",
       "      <td>No</td>\n",
       "      <td>No</td>\n",
       "      <td>Yes</td>\n",
       "      <td>Negative</td>\n",
       "      <td>NaN</td>\n",
       "    </tr>\n",
       "    <tr>\n",
       "      <th>9998</th>\n",
       "      <td>09e1c3</td>\n",
       "      <td>Female</td>\n",
       "      <td>Outpatient</td>\n",
       "      <td>08-05-2020</td>\n",
       "      <td>05-05-2020</td>\n",
       "      <td>NaN</td>\n",
       "      <td>NaN</td>\n",
       "      <td>No</td>\n",
       "      <td>42</td>\n",
       "      <td>No</td>\n",
       "      <td>...</td>\n",
       "      <td>No</td>\n",
       "      <td>No</td>\n",
       "      <td>No</td>\n",
       "      <td>No</td>\n",
       "      <td>No</td>\n",
       "      <td>No</td>\n",
       "      <td>No</td>\n",
       "      <td>Yes</td>\n",
       "      <td>Negative</td>\n",
       "      <td>NaN</td>\n",
       "    </tr>\n",
       "    <tr>\n",
       "      <th>9999</th>\n",
       "      <td>16d40b</td>\n",
       "      <td>Female</td>\n",
       "      <td>Outpatient</td>\n",
       "      <td>16-04-2020</td>\n",
       "      <td>16-04-2020</td>\n",
       "      <td>NaN</td>\n",
       "      <td>NaN</td>\n",
       "      <td>No</td>\n",
       "      <td>24</td>\n",
       "      <td>No</td>\n",
       "      <td>...</td>\n",
       "      <td>No</td>\n",
       "      <td>No</td>\n",
       "      <td>No</td>\n",
       "      <td>No</td>\n",
       "      <td>No</td>\n",
       "      <td>No</td>\n",
       "      <td>No</td>\n",
       "      <td>No</td>\n",
       "      <td>Negative</td>\n",
       "      <td>NaN</td>\n",
       "    </tr>\n",
       "  </tbody>\n",
       "</table>\n",
       "<p>5 rows × 23 columns</p>\n",
       "</div>"
      ],
      "text/plain": [
       "          id     sex patient_type  entry_date date_symptoms date_died intubed  \\\n",
       "9995  1b5791    Male   Outpatient  16-06-2020    15-06-2020       NaN     NaN   \n",
       "9996  15b33c    Male    Inpatient  05-05-2020    24-04-2020       NaN      No   \n",
       "9997  14fa3f    Male   Outpatient  26-05-2020    22-05-2020       NaN     NaN   \n",
       "9998  09e1c3  Female   Outpatient  08-05-2020    05-05-2020       NaN     NaN   \n",
       "9999  16d40b  Female   Outpatient  16-04-2020    16-04-2020       NaN     NaN   \n",
       "\n",
       "     pneumonia  age pregnancy  ... inmsupr hypertension other_disease  \\\n",
       "9995        No   43       NaN  ...      No           No            No   \n",
       "9996       Yes   31       NaN  ...      No           No            No   \n",
       "9997        No   24       NaN  ...      No           No            No   \n",
       "9998        No   42        No  ...      No           No            No   \n",
       "9999        No   24        No  ...      No           No            No   \n",
       "\n",
       "     cardiovascular obesity renal_chronic tobacco contact_other_covid  \\\n",
       "9995             No      No            No      No                  No   \n",
       "9996             No      No            No      No                  No   \n",
       "9997             No      No            No      No                 Yes   \n",
       "9998             No      No            No      No                 Yes   \n",
       "9999             No      No            No      No                  No   \n",
       "\n",
       "     covid_res  icu  \n",
       "9995  Negative  NaN  \n",
       "9996  Positive   No  \n",
       "9997  Negative  NaN  \n",
       "9998  Negative  NaN  \n",
       "9999  Negative  NaN  \n",
       "\n",
       "[5 rows x 23 columns]"
      ]
     },
     "execution_count": 4,
     "metadata": {},
     "output_type": "execute_result"
    }
   ],
   "source": [
    "#Viewing the last five rows\n",
    "df.tail()"
   ]
  },
  {
   "cell_type": "code",
   "execution_count": 5,
   "metadata": {},
   "outputs": [
    {
     "data": {
      "text/plain": [
       "(10000, 23)"
      ]
     },
     "execution_count": 5,
     "metadata": {},
     "output_type": "execute_result"
    }
   ],
   "source": [
    "df.shape\n",
    "#cheking total number of rows and columns in the dataframe"
   ]
  },
  {
   "cell_type": "code",
   "execution_count": 6,
   "metadata": {},
   "outputs": [
    {
     "data": {
      "text/plain": [
       "Index(['id', 'sex', 'patient_type', 'entry_date', 'date_symptoms', 'date_died',\n",
       "       'intubed', 'pneumonia', 'age', 'pregnancy', 'diabetes', 'copd',\n",
       "       'asthma', 'inmsupr', 'hypertension', 'other_disease', 'cardiovascular',\n",
       "       'obesity', 'renal_chronic', 'tobacco', 'contact_other_covid',\n",
       "       'covid_res', 'icu'],\n",
       "      dtype='object')"
      ]
     },
     "execution_count": 6,
     "metadata": {},
     "output_type": "execute_result"
    }
   ],
   "source": [
    "# outputs the column names of the DataFrame df.\n",
    "df.columns"
   ]
  },
  {
   "cell_type": "code",
   "execution_count": 7,
   "metadata": {},
   "outputs": [
    {
     "name": "stdout",
     "output_type": "stream",
     "text": [
      "<class 'pandas.core.frame.DataFrame'>\n",
      "RangeIndex: 10000 entries, 0 to 9999\n",
      "Data columns (total 23 columns):\n",
      " #   Column               Non-Null Count  Dtype \n",
      "---  ------               --------------  ----- \n",
      " 0   id                   10000 non-null  object\n",
      " 1   sex                  10000 non-null  object\n",
      " 2   patient_type         10000 non-null  object\n",
      " 3   entry_date           10000 non-null  object\n",
      " 4   date_symptoms        10000 non-null  object\n",
      " 5   date_died            639 non-null    object\n",
      " 6   intubed              2137 non-null   object\n",
      " 7   pneumonia            9999 non-null   object\n",
      " 8   age                  10000 non-null  int64 \n",
      " 9   pregnancy            4841 non-null   object\n",
      " 10  diabetes             9965 non-null   object\n",
      " 11  copd                 9969 non-null   object\n",
      " 12  asthma               9968 non-null   object\n",
      " 13  inmsupr              9966 non-null   object\n",
      " 14  hypertension         9968 non-null   object\n",
      " 15  other_disease        9956 non-null   object\n",
      " 16  cardiovascular       9966 non-null   object\n",
      " 17  obesity              9969 non-null   object\n",
      " 18  renal_chronic        9967 non-null   object\n",
      " 19  tobacco              9966 non-null   object\n",
      " 20  contact_other_covid  6893 non-null   object\n",
      " 21  covid_res            10000 non-null  object\n",
      " 22  icu                  2137 non-null   object\n",
      "dtypes: int64(1), object(22)\n",
      "memory usage: 1.8+ MB\n"
     ]
    }
   ],
   "source": [
    "# provides a concise summary of a DataFrame, index dtype and column dtypes, non-null values, and memory usage.\n",
    "df.info()"
   ]
  },
  {
   "cell_type": "code",
   "execution_count": 8,
   "metadata": {},
   "outputs": [
    {
     "data": {
      "text/plain": [
       "No     8745\n",
       "Yes    1220\n",
       "Name: diabetes, dtype: int64"
      ]
     },
     "execution_count": 8,
     "metadata": {},
     "output_type": "execute_result"
    }
   ],
   "source": [
    "df.diabetes.value_counts()"
   ]
  },
  {
   "cell_type": "code",
   "execution_count": 9,
   "metadata": {},
   "outputs": [
    {
     "data": {
      "text/plain": [
       "No     9813\n",
       "Yes     156\n",
       "Name: copd, dtype: int64"
      ]
     },
     "execution_count": 9,
     "metadata": {},
     "output_type": "execute_result"
    }
   ],
   "source": [
    "df.copd.value_counts()"
   ]
  },
  {
   "cell_type": "code",
   "execution_count": 10,
   "metadata": {},
   "outputs": [
    {
     "data": {
      "text/plain": [
       "No     9647\n",
       "Yes     321\n",
       "Name: asthma, dtype: int64"
      ]
     },
     "execution_count": 10,
     "metadata": {},
     "output_type": "execute_result"
    }
   ],
   "source": [
    "df.asthma.value_counts()"
   ]
  },
  {
   "cell_type": "markdown",
   "metadata": {},
   "source": [
    "## Data Cleaning"
   ]
  },
  {
   "cell_type": "markdown",
   "metadata": {},
   "source": [
    "The code below  aims to convert categorical variables in the specified subset of columns to numerical values, where \"Yes\" is replaced by 1 and \"No\" is replaced by 0.This allows for the exploration of relationships between variables through statistical measures such as correlation coefficients and facilitates a more comprehensive and structured EDA process.\n",
    "\n"
   ]
  },
  {
   "cell_type": "code",
   "execution_count": 11,
   "metadata": {},
   "outputs": [],
   "source": [
    "# subset=['pregnancy', 'diabetes', 'copd', 'intubed','pneumonia',\n",
    "#        'asthma', 'inmsupr', 'hypertension', 'other_disease', 'cardiovascular',\n",
    "#        'obesity', 'renal_chronic', 'tobacco','contact_other_covid', 'icu']\n",
    "# df[subset]=df[subset].replace({'Yes':1, 'No':0})"
   ]
  },
  {
   "cell_type": "code",
   "execution_count": 12,
   "metadata": {
    "scrolled": true
   },
   "outputs": [
    {
     "data": {
      "text/html": [
       "<div>\n",
       "<style scoped>\n",
       "    .dataframe tbody tr th:only-of-type {\n",
       "        vertical-align: middle;\n",
       "    }\n",
       "\n",
       "    .dataframe tbody tr th {\n",
       "        vertical-align: top;\n",
       "    }\n",
       "\n",
       "    .dataframe thead th {\n",
       "        text-align: right;\n",
       "    }\n",
       "</style>\n",
       "<table border=\"1\" class=\"dataframe\">\n",
       "  <thead>\n",
       "    <tr style=\"text-align: right;\">\n",
       "      <th></th>\n",
       "      <th>id</th>\n",
       "      <th>sex</th>\n",
       "      <th>patient_type</th>\n",
       "      <th>entry_date</th>\n",
       "      <th>date_symptoms</th>\n",
       "      <th>date_died</th>\n",
       "      <th>intubed</th>\n",
       "      <th>pneumonia</th>\n",
       "      <th>age</th>\n",
       "      <th>pregnancy</th>\n",
       "      <th>...</th>\n",
       "      <th>inmsupr</th>\n",
       "      <th>hypertension</th>\n",
       "      <th>other_disease</th>\n",
       "      <th>cardiovascular</th>\n",
       "      <th>obesity</th>\n",
       "      <th>renal_chronic</th>\n",
       "      <th>tobacco</th>\n",
       "      <th>contact_other_covid</th>\n",
       "      <th>covid_res</th>\n",
       "      <th>icu</th>\n",
       "    </tr>\n",
       "  </thead>\n",
       "  <tbody>\n",
       "    <tr>\n",
       "      <th>0</th>\n",
       "      <td>0dd249</td>\n",
       "      <td>Male</td>\n",
       "      <td>Outpatient</td>\n",
       "      <td>24-05-2020</td>\n",
       "      <td>18-05-2020</td>\n",
       "      <td>NaN</td>\n",
       "      <td>NaN</td>\n",
       "      <td>Yes</td>\n",
       "      <td>29</td>\n",
       "      <td>NaN</td>\n",
       "      <td>...</td>\n",
       "      <td>No</td>\n",
       "      <td>No</td>\n",
       "      <td>No</td>\n",
       "      <td>No</td>\n",
       "      <td>No</td>\n",
       "      <td>No</td>\n",
       "      <td>Yes</td>\n",
       "      <td>Yes</td>\n",
       "      <td>Negative</td>\n",
       "      <td>NaN</td>\n",
       "    </tr>\n",
       "    <tr>\n",
       "      <th>1</th>\n",
       "      <td>0957d9</td>\n",
       "      <td>Female</td>\n",
       "      <td>Outpatient</td>\n",
       "      <td>18-06-2020</td>\n",
       "      <td>16-06-2020</td>\n",
       "      <td>NaN</td>\n",
       "      <td>NaN</td>\n",
       "      <td>No</td>\n",
       "      <td>45</td>\n",
       "      <td>No</td>\n",
       "      <td>...</td>\n",
       "      <td>No</td>\n",
       "      <td>No</td>\n",
       "      <td>No</td>\n",
       "      <td>No</td>\n",
       "      <td>No</td>\n",
       "      <td>No</td>\n",
       "      <td>No</td>\n",
       "      <td>NaN</td>\n",
       "      <td>Negative</td>\n",
       "      <td>NaN</td>\n",
       "    </tr>\n",
       "    <tr>\n",
       "      <th>2</th>\n",
       "      <td>0ad2eb</td>\n",
       "      <td>Female</td>\n",
       "      <td>Outpatient</td>\n",
       "      <td>11-05-2020</td>\n",
       "      <td>11-05-2020</td>\n",
       "      <td>NaN</td>\n",
       "      <td>NaN</td>\n",
       "      <td>No</td>\n",
       "      <td>25</td>\n",
       "      <td>No</td>\n",
       "      <td>...</td>\n",
       "      <td>No</td>\n",
       "      <td>No</td>\n",
       "      <td>No</td>\n",
       "      <td>No</td>\n",
       "      <td>No</td>\n",
       "      <td>No</td>\n",
       "      <td>No</td>\n",
       "      <td>Yes</td>\n",
       "      <td>Negative</td>\n",
       "      <td>NaN</td>\n",
       "    </tr>\n",
       "    <tr>\n",
       "      <th>3</th>\n",
       "      <td>1646ba</td>\n",
       "      <td>Female</td>\n",
       "      <td>Outpatient</td>\n",
       "      <td>24-06-2020</td>\n",
       "      <td>19-06-2020</td>\n",
       "      <td>NaN</td>\n",
       "      <td>NaN</td>\n",
       "      <td>No</td>\n",
       "      <td>11</td>\n",
       "      <td>No</td>\n",
       "      <td>...</td>\n",
       "      <td>No</td>\n",
       "      <td>No</td>\n",
       "      <td>No</td>\n",
       "      <td>No</td>\n",
       "      <td>No</td>\n",
       "      <td>No</td>\n",
       "      <td>No</td>\n",
       "      <td>Yes</td>\n",
       "      <td>Positive</td>\n",
       "      <td>NaN</td>\n",
       "    </tr>\n",
       "    <tr>\n",
       "      <th>4</th>\n",
       "      <td>1e31dd</td>\n",
       "      <td>Male</td>\n",
       "      <td>Outpatient</td>\n",
       "      <td>17-05-2020</td>\n",
       "      <td>16-05-2020</td>\n",
       "      <td>NaN</td>\n",
       "      <td>NaN</td>\n",
       "      <td>No</td>\n",
       "      <td>28</td>\n",
       "      <td>NaN</td>\n",
       "      <td>...</td>\n",
       "      <td>No</td>\n",
       "      <td>No</td>\n",
       "      <td>No</td>\n",
       "      <td>No</td>\n",
       "      <td>No</td>\n",
       "      <td>No</td>\n",
       "      <td>No</td>\n",
       "      <td>Yes</td>\n",
       "      <td>Negative</td>\n",
       "      <td>NaN</td>\n",
       "    </tr>\n",
       "  </tbody>\n",
       "</table>\n",
       "<p>5 rows × 23 columns</p>\n",
       "</div>"
      ],
      "text/plain": [
       "       id     sex patient_type  entry_date date_symptoms date_died intubed  \\\n",
       "0  0dd249    Male   Outpatient  24-05-2020    18-05-2020       NaN     NaN   \n",
       "1  0957d9  Female   Outpatient  18-06-2020    16-06-2020       NaN     NaN   \n",
       "2  0ad2eb  Female   Outpatient  11-05-2020    11-05-2020       NaN     NaN   \n",
       "3  1646ba  Female   Outpatient  24-06-2020    19-06-2020       NaN     NaN   \n",
       "4  1e31dd    Male   Outpatient  17-05-2020    16-05-2020       NaN     NaN   \n",
       "\n",
       "  pneumonia  age pregnancy  ... inmsupr hypertension other_disease  \\\n",
       "0       Yes   29       NaN  ...      No           No            No   \n",
       "1        No   45        No  ...      No           No            No   \n",
       "2        No   25        No  ...      No           No            No   \n",
       "3        No   11        No  ...      No           No            No   \n",
       "4        No   28       NaN  ...      No           No            No   \n",
       "\n",
       "  cardiovascular obesity renal_chronic tobacco contact_other_covid covid_res  \\\n",
       "0             No      No            No     Yes                 Yes  Negative   \n",
       "1             No      No            No      No                 NaN  Negative   \n",
       "2             No      No            No      No                 Yes  Negative   \n",
       "3             No      No            No      No                 Yes  Positive   \n",
       "4             No      No            No      No                 Yes  Negative   \n",
       "\n",
       "   icu  \n",
       "0  NaN  \n",
       "1  NaN  \n",
       "2  NaN  \n",
       "3  NaN  \n",
       "4  NaN  \n",
       "\n",
       "[5 rows x 23 columns]"
      ]
     },
     "execution_count": 12,
     "metadata": {},
     "output_type": "execute_result"
    }
   ],
   "source": [
    "df.head()"
   ]
  },
  {
   "cell_type": "code",
   "execution_count": 13,
   "metadata": {},
   "outputs": [
    {
     "name": "stdout",
     "output_type": "stream",
     "text": [
      "<class 'pandas.core.frame.DataFrame'>\n",
      "RangeIndex: 10000 entries, 0 to 9999\n",
      "Data columns (total 23 columns):\n",
      " #   Column               Non-Null Count  Dtype \n",
      "---  ------               --------------  ----- \n",
      " 0   id                   10000 non-null  object\n",
      " 1   sex                  10000 non-null  object\n",
      " 2   patient_type         10000 non-null  object\n",
      " 3   entry_date           10000 non-null  object\n",
      " 4   date_symptoms        10000 non-null  object\n",
      " 5   date_died            639 non-null    object\n",
      " 6   intubed              2137 non-null   object\n",
      " 7   pneumonia            9999 non-null   object\n",
      " 8   age                  10000 non-null  int64 \n",
      " 9   pregnancy            4841 non-null   object\n",
      " 10  diabetes             9965 non-null   object\n",
      " 11  copd                 9969 non-null   object\n",
      " 12  asthma               9968 non-null   object\n",
      " 13  inmsupr              9966 non-null   object\n",
      " 14  hypertension         9968 non-null   object\n",
      " 15  other_disease        9956 non-null   object\n",
      " 16  cardiovascular       9966 non-null   object\n",
      " 17  obesity              9969 non-null   object\n",
      " 18  renal_chronic        9967 non-null   object\n",
      " 19  tobacco              9966 non-null   object\n",
      " 20  contact_other_covid  6893 non-null   object\n",
      " 21  covid_res            10000 non-null  object\n",
      " 22  icu                  2137 non-null   object\n",
      "dtypes: int64(1), object(22)\n",
      "memory usage: 1.8+ MB\n"
     ]
    }
   ],
   "source": [
    "df.info()"
   ]
  },
  {
   "cell_type": "code",
   "execution_count": 14,
   "metadata": {},
   "outputs": [
    {
     "data": {
      "text/html": [
       "<div>\n",
       "<style scoped>\n",
       "    .dataframe tbody tr th:only-of-type {\n",
       "        vertical-align: middle;\n",
       "    }\n",
       "\n",
       "    .dataframe tbody tr th {\n",
       "        vertical-align: top;\n",
       "    }\n",
       "\n",
       "    .dataframe thead th {\n",
       "        text-align: right;\n",
       "    }\n",
       "</style>\n",
       "<table border=\"1\" class=\"dataframe\">\n",
       "  <thead>\n",
       "    <tr style=\"text-align: right;\">\n",
       "      <th></th>\n",
       "      <th>age</th>\n",
       "    </tr>\n",
       "  </thead>\n",
       "  <tbody>\n",
       "    <tr>\n",
       "      <th>count</th>\n",
       "      <td>10000.000000</td>\n",
       "    </tr>\n",
       "    <tr>\n",
       "      <th>mean</th>\n",
       "      <td>42.772600</td>\n",
       "    </tr>\n",
       "    <tr>\n",
       "      <th>std</th>\n",
       "      <td>19.634629</td>\n",
       "    </tr>\n",
       "    <tr>\n",
       "      <th>min</th>\n",
       "      <td>-67.000000</td>\n",
       "    </tr>\n",
       "    <tr>\n",
       "      <th>25%</th>\n",
       "      <td>31.000000</td>\n",
       "    </tr>\n",
       "    <tr>\n",
       "      <th>50%</th>\n",
       "      <td>41.000000</td>\n",
       "    </tr>\n",
       "    <tr>\n",
       "      <th>75%</th>\n",
       "      <td>53.000000</td>\n",
       "    </tr>\n",
       "    <tr>\n",
       "      <th>max</th>\n",
       "      <td>856.000000</td>\n",
       "    </tr>\n",
       "  </tbody>\n",
       "</table>\n",
       "</div>"
      ],
      "text/plain": [
       "                age\n",
       "count  10000.000000\n",
       "mean      42.772600\n",
       "std       19.634629\n",
       "min      -67.000000\n",
       "25%       31.000000\n",
       "50%       41.000000\n",
       "75%       53.000000\n",
       "max      856.000000"
      ]
     },
     "execution_count": 14,
     "metadata": {},
     "output_type": "execute_result"
    }
   ],
   "source": [
    "## outputs statistics sumary of the data\n",
    "df.describe()"
   ]
  },
  {
   "cell_type": "markdown",
   "metadata": {},
   "source": [
    "### Dealing with misssing values\n",
    "We calculate the percentage of missing values in each column, providing insights into the extent of missing data and guiding decisions on how to handle missing values appropriately. Four columns, 'id', 'icu', 'intubed', 'contact_other_covid' were\n",
    "removed. The id column, while unique, didn't contribute to the analysis since it only identifies unique data points. The 'icu', 'intubed' and 'contact_other_covid' had a very high percentage of missing values. Imputing the misssing values would create a huge assumption interfering with the data integrity.\n",
    "\n",
    "We dropped rows  in columns that had  percentage of missing values below 1 ensuring that the remaining data retained its integrity and accuracy, as it minimizes the impact of missing data on subsequent analysis or modeling.\n"
   ]
  },
  {
   "cell_type": "code",
   "execution_count": 15,
   "metadata": {
    "scrolled": true
   },
   "outputs": [
    {
     "data": {
      "text/plain": [
       "id                      0.00\n",
       "sex                     0.00\n",
       "patient_type            0.00\n",
       "entry_date              0.00\n",
       "date_symptoms           0.00\n",
       "date_died              93.61\n",
       "intubed                78.63\n",
       "pneumonia               0.01\n",
       "age                     0.00\n",
       "pregnancy              51.59\n",
       "diabetes                0.35\n",
       "copd                    0.31\n",
       "asthma                  0.32\n",
       "inmsupr                 0.34\n",
       "hypertension            0.32\n",
       "other_disease           0.44\n",
       "cardiovascular          0.34\n",
       "obesity                 0.31\n",
       "renal_chronic           0.33\n",
       "tobacco                 0.34\n",
       "contact_other_covid    31.07\n",
       "covid_res               0.00\n",
       "icu                    78.63\n",
       "dtype: float64"
      ]
     },
     "execution_count": 15,
     "metadata": {},
     "output_type": "execute_result"
    }
   ],
   "source": [
    "# chencking the percentage of missing values\n",
    "df.isna().sum()/100"
   ]
  },
  {
   "cell_type": "code",
   "execution_count": 16,
   "metadata": {},
   "outputs": [],
   "source": [
    "# columns to be dropped\n",
    "df= df.drop(['id', 'icu', 'intubed', 'contact_other_covid'], axis=1)\n",
    "# List of columns with missing values below 1%\n",
    "columns_to_drop_na = ['pneumonia', 'diabetes', 'copd', 'asthma', \n",
    "                   'inmsupr', 'hypertension', 'other_disease', \n",
    "                   'cardiovascular', 'obesity', 'renal_chronic', 'tobacco']\n",
    "df.dropna(subset=columns_to_drop_na, inplace=True, axis=0)"
   ]
  },
  {
   "cell_type": "markdown",
   "metadata": {},
   "source": [
    "The percentage of missing values in the pregnancy column is indeed 51.59%. Replaced the missing values with th mode."
   ]
  },
  {
   "cell_type": "code",
   "execution_count": 17,
   "metadata": {
    "scrolled": true
   },
   "outputs": [],
   "source": [
    "df.pregnancy.value_counts()\n",
    "df['pregnancy']=df['pregnancy'].fillna(df['pregnancy'].mode()[0])\n"
   ]
  },
  {
   "cell_type": "markdown",
   "metadata": {},
   "source": [
    "We created a new column 'died' in the DataFrame, indicating whether the patient died or not based on the presence of a date in the 'date_died' column. Boolean values are optionally converted to integers (True -> 1, False -> 0)."
   ]
  },
  {
   "cell_type": "code",
   "execution_count": 18,
   "metadata": {
    "scrolled": true
   },
   "outputs": [
    {
     "data": {
      "text/html": [
       "<div>\n",
       "<style scoped>\n",
       "    .dataframe tbody tr th:only-of-type {\n",
       "        vertical-align: middle;\n",
       "    }\n",
       "\n",
       "    .dataframe tbody tr th {\n",
       "        vertical-align: top;\n",
       "    }\n",
       "\n",
       "    .dataframe thead th {\n",
       "        text-align: right;\n",
       "    }\n",
       "</style>\n",
       "<table border=\"1\" class=\"dataframe\">\n",
       "  <thead>\n",
       "    <tr style=\"text-align: right;\">\n",
       "      <th></th>\n",
       "      <th>sex</th>\n",
       "      <th>patient_type</th>\n",
       "      <th>entry_date</th>\n",
       "      <th>date_symptoms</th>\n",
       "      <th>date_died</th>\n",
       "      <th>pneumonia</th>\n",
       "      <th>age</th>\n",
       "      <th>pregnancy</th>\n",
       "      <th>diabetes</th>\n",
       "      <th>copd</th>\n",
       "      <th>asthma</th>\n",
       "      <th>inmsupr</th>\n",
       "      <th>hypertension</th>\n",
       "      <th>other_disease</th>\n",
       "      <th>cardiovascular</th>\n",
       "      <th>obesity</th>\n",
       "      <th>renal_chronic</th>\n",
       "      <th>tobacco</th>\n",
       "      <th>covid_res</th>\n",
       "      <th>died</th>\n",
       "    </tr>\n",
       "  </thead>\n",
       "  <tbody>\n",
       "    <tr>\n",
       "      <th>0</th>\n",
       "      <td>Male</td>\n",
       "      <td>Outpatient</td>\n",
       "      <td>24-05-2020</td>\n",
       "      <td>18-05-2020</td>\n",
       "      <td>NaN</td>\n",
       "      <td>Yes</td>\n",
       "      <td>29</td>\n",
       "      <td>No</td>\n",
       "      <td>No</td>\n",
       "      <td>No</td>\n",
       "      <td>No</td>\n",
       "      <td>No</td>\n",
       "      <td>No</td>\n",
       "      <td>No</td>\n",
       "      <td>No</td>\n",
       "      <td>No</td>\n",
       "      <td>No</td>\n",
       "      <td>Yes</td>\n",
       "      <td>Negative</td>\n",
       "      <td>0</td>\n",
       "    </tr>\n",
       "    <tr>\n",
       "      <th>1</th>\n",
       "      <td>Female</td>\n",
       "      <td>Outpatient</td>\n",
       "      <td>18-06-2020</td>\n",
       "      <td>16-06-2020</td>\n",
       "      <td>NaN</td>\n",
       "      <td>No</td>\n",
       "      <td>45</td>\n",
       "      <td>No</td>\n",
       "      <td>No</td>\n",
       "      <td>No</td>\n",
       "      <td>No</td>\n",
       "      <td>No</td>\n",
       "      <td>No</td>\n",
       "      <td>No</td>\n",
       "      <td>No</td>\n",
       "      <td>No</td>\n",
       "      <td>No</td>\n",
       "      <td>No</td>\n",
       "      <td>Negative</td>\n",
       "      <td>0</td>\n",
       "    </tr>\n",
       "    <tr>\n",
       "      <th>2</th>\n",
       "      <td>Female</td>\n",
       "      <td>Outpatient</td>\n",
       "      <td>11-05-2020</td>\n",
       "      <td>11-05-2020</td>\n",
       "      <td>NaN</td>\n",
       "      <td>No</td>\n",
       "      <td>25</td>\n",
       "      <td>No</td>\n",
       "      <td>No</td>\n",
       "      <td>No</td>\n",
       "      <td>No</td>\n",
       "      <td>No</td>\n",
       "      <td>No</td>\n",
       "      <td>No</td>\n",
       "      <td>No</td>\n",
       "      <td>No</td>\n",
       "      <td>No</td>\n",
       "      <td>No</td>\n",
       "      <td>Negative</td>\n",
       "      <td>0</td>\n",
       "    </tr>\n",
       "    <tr>\n",
       "      <th>3</th>\n",
       "      <td>Female</td>\n",
       "      <td>Outpatient</td>\n",
       "      <td>24-06-2020</td>\n",
       "      <td>19-06-2020</td>\n",
       "      <td>NaN</td>\n",
       "      <td>No</td>\n",
       "      <td>11</td>\n",
       "      <td>No</td>\n",
       "      <td>No</td>\n",
       "      <td>No</td>\n",
       "      <td>Yes</td>\n",
       "      <td>No</td>\n",
       "      <td>No</td>\n",
       "      <td>No</td>\n",
       "      <td>No</td>\n",
       "      <td>No</td>\n",
       "      <td>No</td>\n",
       "      <td>No</td>\n",
       "      <td>Positive</td>\n",
       "      <td>0</td>\n",
       "    </tr>\n",
       "    <tr>\n",
       "      <th>4</th>\n",
       "      <td>Male</td>\n",
       "      <td>Outpatient</td>\n",
       "      <td>17-05-2020</td>\n",
       "      <td>16-05-2020</td>\n",
       "      <td>NaN</td>\n",
       "      <td>No</td>\n",
       "      <td>28</td>\n",
       "      <td>No</td>\n",
       "      <td>No</td>\n",
       "      <td>No</td>\n",
       "      <td>No</td>\n",
       "      <td>No</td>\n",
       "      <td>No</td>\n",
       "      <td>No</td>\n",
       "      <td>No</td>\n",
       "      <td>No</td>\n",
       "      <td>No</td>\n",
       "      <td>No</td>\n",
       "      <td>Negative</td>\n",
       "      <td>0</td>\n",
       "    </tr>\n",
       "  </tbody>\n",
       "</table>\n",
       "</div>"
      ],
      "text/plain": [
       "      sex patient_type  entry_date date_symptoms date_died pneumonia  age  \\\n",
       "0    Male   Outpatient  24-05-2020    18-05-2020       NaN       Yes   29   \n",
       "1  Female   Outpatient  18-06-2020    16-06-2020       NaN        No   45   \n",
       "2  Female   Outpatient  11-05-2020    11-05-2020       NaN        No   25   \n",
       "3  Female   Outpatient  24-06-2020    19-06-2020       NaN        No   11   \n",
       "4    Male   Outpatient  17-05-2020    16-05-2020       NaN        No   28   \n",
       "\n",
       "  pregnancy diabetes copd asthma inmsupr hypertension other_disease  \\\n",
       "0        No       No   No     No      No           No            No   \n",
       "1        No       No   No     No      No           No            No   \n",
       "2        No       No   No     No      No           No            No   \n",
       "3        No       No   No    Yes      No           No            No   \n",
       "4        No       No   No     No      No           No            No   \n",
       "\n",
       "  cardiovascular obesity renal_chronic tobacco covid_res  died  \n",
       "0             No      No            No     Yes  Negative     0  \n",
       "1             No      No            No      No  Negative     0  \n",
       "2             No      No            No      No  Negative     0  \n",
       "3             No      No            No      No  Positive     0  \n",
       "4             No      No            No      No  Negative     0  "
      ]
     },
     "execution_count": 18,
     "metadata": {},
     "output_type": "execute_result"
    }
   ],
   "source": [
    "# Create a new column 'died' indicating whether the patient died or not\n",
    "df['died'] = df['date_died'].notnull()\n",
    "\n",
    "# Optionally, you can convert the boolean values to integers (True -> 1, False -> 0)\n",
    "df['died'] = df['died'].astype(int)\n",
    "\n",
    "# Display the DataFrame to verify the changes\n",
    "df.head()"
   ]
  },
  {
   "cell_type": "markdown",
   "metadata": {},
   "source": [
    "**Handling duplicated values**\n",
    "\n",
    "The first line of code checks the number of duplicated rows in the DataFrame `df`, while the second line removes duplicated rows, keeping only the first occurrence of each duplicate entry.By eliminating redundant information,  we focus on genuine patterns and relationships in the data, leading to more insightful and actionable findings."
   ]
  },
  {
   "cell_type": "code",
   "execution_count": 19,
   "metadata": {},
   "outputs": [],
   "source": [
    "df.duplicated().sum()\n",
    "# Assuming df is your DataFrame\n",
    "df.drop_duplicates(keep='first', inplace=True)"
   ]
  },
  {
   "cell_type": "markdown",
   "metadata": {},
   "source": [
    "In the provided data, \"Femalee\" and \"Males\" appear to be typographical errors, likely meant to represent \"Female\" and \"Male,\" respectively. By correcting these typos, we ensured that the gender categories are uniform and accurately represent the intended groups."
   ]
  },
  {
   "cell_type": "code",
   "execution_count": 20,
   "metadata": {
    "scrolled": true
   },
   "outputs": [
    {
     "data": {
      "text/plain": [
       "Male       4979\n",
       "Female     4674\n",
       "Femalee     110\n",
       "Males        52\n",
       "Name: sex, dtype: int64"
      ]
     },
     "execution_count": 20,
     "metadata": {},
     "output_type": "execute_result"
    }
   ],
   "source": [
    "df.sex.value_counts() \n"
   ]
  },
  {
   "cell_type": "code",
   "execution_count": 21,
   "metadata": {},
   "outputs": [
    {
     "data": {
      "text/plain": [
       "Male      5031\n",
       "Female    4784\n",
       "Name: sex, dtype: int64"
      ]
     },
     "execution_count": 21,
     "metadata": {},
     "output_type": "execute_result"
    }
   ],
   "source": [
    "df['sex']= df['sex'].replace({'Femalee':'Female', 'Males':'Male'})\n",
    "df.sex.value_counts()"
   ]
  },
  {
   "cell_type": "markdown",
   "metadata": {},
   "source": [
    "Confirming if  missing values were dropped\n"
   ]
  },
  {
   "cell_type": "code",
   "execution_count": 22,
   "metadata": {},
   "outputs": [
    {
     "data": {
      "text/plain": [
       "sex                0.00\n",
       "patient_type       0.00\n",
       "entry_date         0.00\n",
       "date_symptoms      0.00\n",
       "date_died         91.82\n",
       "pneumonia          0.00\n",
       "age                0.00\n",
       "pregnancy          0.00\n",
       "diabetes           0.00\n",
       "copd               0.00\n",
       "asthma             0.00\n",
       "inmsupr            0.00\n",
       "hypertension       0.00\n",
       "other_disease      0.00\n",
       "cardiovascular     0.00\n",
       "obesity            0.00\n",
       "renal_chronic      0.00\n",
       "tobacco            0.00\n",
       "covid_res          0.00\n",
       "died               0.00\n",
       "dtype: float64"
      ]
     },
     "execution_count": 22,
     "metadata": {},
     "output_type": "execute_result"
    }
   ],
   "source": [
    "df.isna().sum()/100"
   ]
  },
  {
   "cell_type": "code",
   "execution_count": 23,
   "metadata": {},
   "outputs": [
    {
     "data": {
      "text/plain": [
       "(9815, 20)"
      ]
     },
     "execution_count": 23,
     "metadata": {},
     "output_type": "execute_result"
    }
   ],
   "source": [
    "df.shape "
   ]
  },
  {
   "cell_type": "markdown",
   "metadata": {},
   "source": [
    "The age column exhibited some outrageous values.Some values exceeded the normal life expectancy of human beings and some were negative values which is unrealistic. We had to drop these values to improve the quality of the data."
   ]
  },
  {
   "cell_type": "code",
   "execution_count": 24,
   "metadata": {},
   "outputs": [
    {
     "data": {
      "text/plain": [
       "array([ 29,  45,  25,  11,  28,   9,  58,  76,  30,  47,  34,  46,  38,\n",
       "        68,  51,  44,  89,  53,  48,  73,  43,  31,  69,  61,   4,  60,\n",
       "        59,  15,  19,  79,  40,  65,  42,  35,  24,  77,  33,  37,  22,\n",
       "        36,  20,  93,  81,  21,  41,  90,  66,  50,  67,  54,  72,  52,\n",
       "        13,  39,  75,  23,  62,  56,   1,  57,  55,  32,  14,   3,  84,\n",
       "         0,  49,  16,   5,  80,  27,  82,   8,  26,  83,   6,  64,  85,\n",
       "        63,   2,  18,  17,  12,  10, 100,  88,  86,  70,  71,  74,  87,\n",
       "        99,   7,  78,  98,  95,  92,  97,  94,  91,  96, 107, 311, -56,\n",
       "       483, 856, -48, 280, 155, -67], dtype=int64)"
      ]
     },
     "execution_count": 24,
     "metadata": {},
     "output_type": "execute_result"
    }
   ],
   "source": [
    "# unique age values present in the dataset\n",
    "df.age.unique() "
   ]
  },
  {
   "cell_type": "code",
   "execution_count": 25,
   "metadata": {},
   "outputs": [
    {
     "name": "stderr",
     "output_type": "stream",
     "text": [
      "C:\\Users\\Dee\\anaconda3\\envs\\learn-env\\lib\\site-packages\\seaborn\\_decorators.py:36: FutureWarning: Pass the following variable as a keyword arg: x. From version 0.12, the only valid positional argument will be `data`, and passing other arguments without an explicit keyword will result in an error or misinterpretation.\n",
      "  warnings.warn(\n"
     ]
    },
    {
     "data": {
      "image/png": "[encoded data removed]",
      "text/plain": [
       "<Figure size 432x288 with 1 Axes>"
      ]
     },
     "metadata": {
      "needs_background": "light"
     },
     "output_type": "display_data"
    }
   ],
   "source": [
    "sns.boxplot(df['age']);\n",
    "warnings.filterwarnings('ignore')"
   ]
  },
  {
   "cell_type": "code",
   "execution_count": 26,
   "metadata": {},
   "outputs": [
    {
     "data": {
      "text/html": [
       "<div>\n",
       "<style scoped>\n",
       "    .dataframe tbody tr th:only-of-type {\n",
       "        vertical-align: middle;\n",
       "    }\n",
       "\n",
       "    .dataframe tbody tr th {\n",
       "        vertical-align: top;\n",
       "    }\n",
       "\n",
       "    .dataframe thead th {\n",
       "        text-align: right;\n",
       "    }\n",
       "</style>\n",
       "<table border=\"1\" class=\"dataframe\">\n",
       "  <thead>\n",
       "    <tr style=\"text-align: right;\">\n",
       "      <th></th>\n",
       "      <th>sex</th>\n",
       "      <th>patient_type</th>\n",
       "      <th>entry_date</th>\n",
       "      <th>date_symptoms</th>\n",
       "      <th>date_died</th>\n",
       "      <th>pneumonia</th>\n",
       "      <th>age</th>\n",
       "      <th>pregnancy</th>\n",
       "      <th>diabetes</th>\n",
       "      <th>copd</th>\n",
       "      <th>asthma</th>\n",
       "      <th>inmsupr</th>\n",
       "      <th>hypertension</th>\n",
       "      <th>other_disease</th>\n",
       "      <th>cardiovascular</th>\n",
       "      <th>obesity</th>\n",
       "      <th>renal_chronic</th>\n",
       "      <th>tobacco</th>\n",
       "      <th>covid_res</th>\n",
       "      <th>died</th>\n",
       "    </tr>\n",
       "  </thead>\n",
       "  <tbody>\n",
       "    <tr>\n",
       "      <th>9630</th>\n",
       "      <td>Male</td>\n",
       "      <td>Inpatient</td>\n",
       "      <td>11-04-2020</td>\n",
       "      <td>10-04-2020</td>\n",
       "      <td>NaN</td>\n",
       "      <td>Yes</td>\n",
       "      <td>311</td>\n",
       "      <td>No</td>\n",
       "      <td>No</td>\n",
       "      <td>No</td>\n",
       "      <td>No</td>\n",
       "      <td>No</td>\n",
       "      <td>No</td>\n",
       "      <td>No</td>\n",
       "      <td>No</td>\n",
       "      <td>No</td>\n",
       "      <td>No</td>\n",
       "      <td>Yes</td>\n",
       "      <td>Negative</td>\n",
       "      <td>0</td>\n",
       "    </tr>\n",
       "    <tr>\n",
       "      <th>9634</th>\n",
       "      <td>Male</td>\n",
       "      <td>Outpatient</td>\n",
       "      <td>25-05-2020</td>\n",
       "      <td>20-05-2020</td>\n",
       "      <td>NaN</td>\n",
       "      <td>No</td>\n",
       "      <td>-56</td>\n",
       "      <td>No</td>\n",
       "      <td>No</td>\n",
       "      <td>No</td>\n",
       "      <td>No</td>\n",
       "      <td>No</td>\n",
       "      <td>No</td>\n",
       "      <td>No</td>\n",
       "      <td>No</td>\n",
       "      <td>No</td>\n",
       "      <td>No</td>\n",
       "      <td>No</td>\n",
       "      <td>Positive</td>\n",
       "      <td>0</td>\n",
       "    </tr>\n",
       "    <tr>\n",
       "      <th>9772</th>\n",
       "      <td>Male</td>\n",
       "      <td>Outpatient</td>\n",
       "      <td>07-05-2020</td>\n",
       "      <td>02-05-2020</td>\n",
       "      <td>NaN</td>\n",
       "      <td>No</td>\n",
       "      <td>483</td>\n",
       "      <td>No</td>\n",
       "      <td>No</td>\n",
       "      <td>No</td>\n",
       "      <td>No</td>\n",
       "      <td>No</td>\n",
       "      <td>No</td>\n",
       "      <td>No</td>\n",
       "      <td>No</td>\n",
       "      <td>No</td>\n",
       "      <td>No</td>\n",
       "      <td>No</td>\n",
       "      <td>Positive</td>\n",
       "      <td>0</td>\n",
       "    </tr>\n",
       "    <tr>\n",
       "      <th>9812</th>\n",
       "      <td>Female</td>\n",
       "      <td>Outpatient</td>\n",
       "      <td>07-05-2020</td>\n",
       "      <td>04-05-2020</td>\n",
       "      <td>NaN</td>\n",
       "      <td>No</td>\n",
       "      <td>856</td>\n",
       "      <td>No</td>\n",
       "      <td>No</td>\n",
       "      <td>No</td>\n",
       "      <td>No</td>\n",
       "      <td>No</td>\n",
       "      <td>Yes</td>\n",
       "      <td>No</td>\n",
       "      <td>No</td>\n",
       "      <td>No</td>\n",
       "      <td>No</td>\n",
       "      <td>No</td>\n",
       "      <td>Negative</td>\n",
       "      <td>0</td>\n",
       "    </tr>\n",
       "    <tr>\n",
       "      <th>9848</th>\n",
       "      <td>Male</td>\n",
       "      <td>Outpatient</td>\n",
       "      <td>26-05-2020</td>\n",
       "      <td>20-05-2020</td>\n",
       "      <td>NaN</td>\n",
       "      <td>No</td>\n",
       "      <td>-48</td>\n",
       "      <td>No</td>\n",
       "      <td>No</td>\n",
       "      <td>No</td>\n",
       "      <td>No</td>\n",
       "      <td>No</td>\n",
       "      <td>No</td>\n",
       "      <td>No</td>\n",
       "      <td>No</td>\n",
       "      <td>No</td>\n",
       "      <td>No</td>\n",
       "      <td>Yes</td>\n",
       "      <td>Awaiting Results</td>\n",
       "      <td>0</td>\n",
       "    </tr>\n",
       "    <tr>\n",
       "      <th>9910</th>\n",
       "      <td>Male</td>\n",
       "      <td>Outpatient</td>\n",
       "      <td>25-06-2020</td>\n",
       "      <td>24-06-2020</td>\n",
       "      <td>NaN</td>\n",
       "      <td>No</td>\n",
       "      <td>280</td>\n",
       "      <td>No</td>\n",
       "      <td>No</td>\n",
       "      <td>No</td>\n",
       "      <td>No</td>\n",
       "      <td>No</td>\n",
       "      <td>No</td>\n",
       "      <td>No</td>\n",
       "      <td>No</td>\n",
       "      <td>No</td>\n",
       "      <td>No</td>\n",
       "      <td>No</td>\n",
       "      <td>Awaiting Results</td>\n",
       "      <td>0</td>\n",
       "    </tr>\n",
       "    <tr>\n",
       "      <th>9980</th>\n",
       "      <td>Male</td>\n",
       "      <td>Outpatient</td>\n",
       "      <td>06-05-2020</td>\n",
       "      <td>30-04-2020</td>\n",
       "      <td>NaN</td>\n",
       "      <td>No</td>\n",
       "      <td>155</td>\n",
       "      <td>No</td>\n",
       "      <td>No</td>\n",
       "      <td>No</td>\n",
       "      <td>No</td>\n",
       "      <td>No</td>\n",
       "      <td>No</td>\n",
       "      <td>No</td>\n",
       "      <td>No</td>\n",
       "      <td>No</td>\n",
       "      <td>No</td>\n",
       "      <td>No</td>\n",
       "      <td>Negative</td>\n",
       "      <td>0</td>\n",
       "    </tr>\n",
       "    <tr>\n",
       "      <th>9986</th>\n",
       "      <td>Male</td>\n",
       "      <td>Outpatient</td>\n",
       "      <td>23-06-2020</td>\n",
       "      <td>19-06-2020</td>\n",
       "      <td>NaN</td>\n",
       "      <td>No</td>\n",
       "      <td>-67</td>\n",
       "      <td>No</td>\n",
       "      <td>Yes</td>\n",
       "      <td>No</td>\n",
       "      <td>No</td>\n",
       "      <td>No</td>\n",
       "      <td>Yes</td>\n",
       "      <td>No</td>\n",
       "      <td>No</td>\n",
       "      <td>No</td>\n",
       "      <td>No</td>\n",
       "      <td>No</td>\n",
       "      <td>Negative</td>\n",
       "      <td>0</td>\n",
       "    </tr>\n",
       "  </tbody>\n",
       "</table>\n",
       "</div>"
      ],
      "text/plain": [
       "         sex patient_type  entry_date date_symptoms date_died pneumonia  age  \\\n",
       "9630    Male    Inpatient  11-04-2020    10-04-2020       NaN       Yes  311   \n",
       "9634    Male   Outpatient  25-05-2020    20-05-2020       NaN        No  -56   \n",
       "9772    Male   Outpatient  07-05-2020    02-05-2020       NaN        No  483   \n",
       "9812  Female   Outpatient  07-05-2020    04-05-2020       NaN        No  856   \n",
       "9848    Male   Outpatient  26-05-2020    20-05-2020       NaN        No  -48   \n",
       "9910    Male   Outpatient  25-06-2020    24-06-2020       NaN        No  280   \n",
       "9980    Male   Outpatient  06-05-2020    30-04-2020       NaN        No  155   \n",
       "9986    Male   Outpatient  23-06-2020    19-06-2020       NaN        No  -67   \n",
       "\n",
       "     pregnancy diabetes copd asthma inmsupr hypertension other_disease  \\\n",
       "9630        No       No   No     No      No           No            No   \n",
       "9634        No       No   No     No      No           No            No   \n",
       "9772        No       No   No     No      No           No            No   \n",
       "9812        No       No   No     No      No          Yes            No   \n",
       "9848        No       No   No     No      No           No            No   \n",
       "9910        No       No   No     No      No           No            No   \n",
       "9980        No       No   No     No      No           No            No   \n",
       "9986        No      Yes   No     No      No          Yes            No   \n",
       "\n",
       "     cardiovascular obesity renal_chronic tobacco         covid_res  died  \n",
       "9630             No      No            No     Yes          Negative     0  \n",
       "9634             No      No            No      No          Positive     0  \n",
       "9772             No      No            No      No          Positive     0  \n",
       "9812             No      No            No      No          Negative     0  \n",
       "9848             No      No            No     Yes  Awaiting Results     0  \n",
       "9910             No      No            No      No  Awaiting Results     0  \n",
       "9980             No      No            No      No          Negative     0  \n",
       "9986             No      No            No      No          Negative     0  "
      ]
     },
     "execution_count": 26,
     "metadata": {},
     "output_type": "execute_result"
    }
   ],
   "source": [
    "# This code will select rows where the age is either less than 0 or greater than 100.\n",
    "df.loc[(df['age'] < 0) | (df['age'] > 110)]\n"
   ]
  },
  {
   "cell_type": "code",
   "execution_count": 27,
   "metadata": {},
   "outputs": [],
   "source": [
    "# Assuming df is your DataFrame\n",
    "df = df.drop(df[(df['age'] < 0) | (df['age'] > 100)].index)\n",
    "# df.age.unique()"
   ]
  },
  {
   "cell_type": "code",
   "execution_count": 28,
   "metadata": {},
   "outputs": [
    {
     "data": {
      "image/png": "[encoded data removed]",
      "text/plain": [
       "<Figure size 1080x576 with 1 Axes>"
      ]
     },
     "metadata": {
      "needs_background": "light"
     },
     "output_type": "display_data"
    }
   ],
   "source": [
    "warnings.filterwarnings(\"ignore\")\n",
    "plt.figure(figsize=(15,8)) \n",
    "sns.boxplot(df['age']);"
   ]
  },
  {
   "cell_type": "code",
   "execution_count": 29,
   "metadata": {},
   "outputs": [],
   "source": [
    "df['date_symptoms'] = pd.to_datetime(df['date_symptoms'])  # Convert to datetime format\n",
    "df['date_symptoms'] = df['date_symptoms'].dt.month  # Extract month as integer\n",
    "df['date_symptoms'] =df['date_symptoms'].astype(int)\n",
    "\n"
   ]
  },
  {
   "cell_type": "code",
   "execution_count": 30,
   "metadata": {
    "scrolled": true
   },
   "outputs": [],
   "source": [
    "# sns.boxplot(df['date_symptoms'])"
   ]
  },
  {
   "cell_type": "markdown",
   "metadata": {},
   "source": [
    "## Data Visualization"
   ]
  },
  {
   "cell_type": "markdown",
   "metadata": {},
   "source": [
    "**Univariate**"
   ]
  },
  {
   "cell_type": "code",
   "execution_count": 31,
   "metadata": {},
   "outputs": [
    {
     "data": {
      "image/png": "[encoded data removed]",
      "text/plain": [
       "<Figure size 720x432 with 1 Axes>"
      ]
     },
     "metadata": {
      "needs_background": "light"
     },
     "output_type": "display_data"
    }
   ],
   "source": [
    "# Group data by 'covid_res' and count occurrences\n",
    "covid_results_counts = df['covid_res'].value_counts()\n",
    "\n",
    "# Plotting\n",
    "plt.figure(figsize=(10, 6))\n",
    "sns.barplot(x=covid_results_counts.index, y=covid_results_counts.values, palette='Set1') \n",
    "plt.title('Distribution of COVID-19 Test Results')\n",
    "plt.xlabel('Test Result')\n",
    "plt.ylabel('Number of Tests')\n",
    "plt.xticks(rotation=45)\n",
    "plt.show()\n"
   ]
  },
  {
   "cell_type": "markdown",
   "metadata": {},
   "source": [
    "The graph shows the highest number of negative covid results of aproximately 5000 , followed by positive results of approximately 4000 lastly appproximately 1000 people had not  yet received their results."
   ]
  },
  {
   "cell_type": "markdown",
   "metadata": {},
   "source": [
    "**Bivariate**"
   ]
  },
  {
   "cell_type": "code",
   "execution_count": 32,
   "metadata": {},
   "outputs": [
    {
     "data": {
      "image/png": "[encoded data removed]",
      "text/plain": [
       "<Figure size 576x432 with 1 Axes>"
      ]
     },
     "metadata": {
      "needs_background": "light"
     },
     "output_type": "display_data"
    }
   ],
   "source": [
    "\n",
    "# Filter data for positive cases\n",
    "positive_cases = df[df['covid_res'] == 'Positive']\n",
    "\n",
    "# Group by date_symptoms and count positive cases for each date\n",
    "trend = positive_cases.groupby('date_symptoms').size()\n",
    "\n",
    "# Plot the trend\n",
    "plt.figure(figsize=(8, 6))\n",
    "trend.plot(kind='line', marker='o', color='b')\n",
    "plt.title('Trend Analysis of Positive COVID-19 Cases')\n",
    "plt.xlabel('Month of Symptoms')\n",
    "plt.ylabel('Number of Positive Cases')\n",
    "\n",
    "\n",
    "# plt.grid(True)\n",
    "plt.show()\n"
   ]
  },
  {
   "cell_type": "markdown",
   "metadata": {},
   "source": [
    "The 5th month (May)  had the highest number of positive covid results and the cases dropped significantly during the month of July."
   ]
  },
  {
   "cell_type": "code",
   "execution_count": 33,
   "metadata": {},
   "outputs": [
    {
     "data": {
      "image/png": "[encoded data removed]",
      "text/plain": [
       "<Figure size 720x576 with 1 Axes>"
      ]
     },
     "metadata": {
      "needs_background": "light"
     },
     "output_type": "display_data"
    }
   ],
   "source": [
    "# Filter data for positive COVID-19 tests\n",
    "df_positive = df[df['covid_res'].isin(['Negative', 'Positive', 'Awaiting Results'])]\n",
    "\n",
    "# Count COVID-19 tests by month and result\n",
    "test_counts_by_month = df_positive.groupby(['date_symptoms', 'covid_res']).size().unstack(fill_value=0)\n",
    "\n",
    "#plotting\n",
    "test_counts_by_month.plot(kind='bar', stacked=False, color=['blue', 'green', 'red'], figsize=(10,8))\n",
    "plt.title('Distribution of COVID-19 Test Results by Month')\n",
    "plt.xlabel('Month')\n",
    "plt.ylabel('Number of Tests') \n",
    "plt.xticks(rotation=45) \n",
    "plt.legend(title='COVID-19 Test Result')\n",
    "plt.show();\n"
   ]
  },
  {
   "cell_type": "markdown",
   "metadata": {},
   "source": [
    "May had the highest number of covid Test results  while July had the least number of covid test results."
   ]
  },
  {
   "cell_type": "code",
   "execution_count": 34,
   "metadata": {},
   "outputs": [
    {
     "data": {
      "image/png": "[encoded data removed]",
      "text/plain": [
       "<Figure size 576x576 with 1 Axes>"
      ]
     },
     "metadata": {
      "needs_background": "light"
     },
     "output_type": "display_data"
    },
    {
     "data": {
      "image/png": "[encoded data removed]",
      "text/plain": [
       "<Figure size 576x576 with 1 Axes>"
      ]
     },
     "metadata": {
      "needs_background": "light"
     },
     "output_type": "display_data"
    },
    {
     "data": {
      "image/png": "[encoded data removed]",
      "text/plain": [
       "<Figure size 576x576 with 1 Axes>"
      ]
     },
     "metadata": {
      "needs_background": "light"
     },
     "output_type": "display_data"
    },
    {
     "data": {
      "image/png": "[encoded data removed]",
      "text/plain": [
       "<Figure size 576x576 with 1 Axes>"
      ]
     },
     "metadata": {
      "needs_background": "light"
     },
     "output_type": "display_data"
    },
    {
     "data": {
      "image/png": "[encoded data removed]",
      "text/plain": [
       "<Figure size 576x576 with 1 Axes>"
      ]
     },
     "metadata": {
      "needs_background": "light"
     },
     "output_type": "display_data"
    },
    {
     "data": {
      "image/png": "[encoded data removed]",
      "text/plain": [
       "<Figure size 576x576 with 1 Axes>"
      ]
     },
     "metadata": {
      "needs_background": "light"
     },
     "output_type": "display_data"
    },
    {
     "data": {
      "image/png": "[encoded data removed]",
      "text/plain": [
       "<Figure size 576x576 with 1 Axes>"
      ]
     },
     "metadata": {
      "needs_background": "light"
     },
     "output_type": "display_data"
    },
    {
     "data": {
      "image/png": "[encoded data removed]",
      "text/plain": [
       "<Figure size 576x576 with 1 Axes>"
      ]
     },
     "metadata": {
      "needs_background": "light"
     },
     "output_type": "display_data"
    },
    {
     "data": {
      "image/png": "[encoded data removed]",
      "text/plain": [
       "<Figure size 576x576 with 1 Axes>"
      ]
     },
     "metadata": {
      "needs_background": "light"
     },
     "output_type": "display_data"
    },
    {
     "data": {
      "image/png": "[encoded data removed]",
      "text/plain": [
       "<Figure size 576x576 with 1 Axes>"
      ]
     },
     "metadata": {
      "needs_background": "light"
     },
     "output_type": "display_data"
    },
    {
     "data": {
      "image/png": "[encoded data removed]",
      "text/plain": [
       "<Figure size 576x576 with 1 Axes>"
      ]
     },
     "metadata": {
      "needs_background": "light"
     },
     "output_type": "display_data"
    }
   ],
   "source": [
    "def multivariate_analysis(df):\n",
    "     # Create a count plot for categorical variables\n",
    "    categorical_cols = ['sex', 'patient_type', 'pneumonia', \n",
    "                        'diabetes', 'copd', 'asthma', 'inmsupr', 'hypertension', \n",
    "                    'cardiovascular', 'obesity', \n",
    "                        'tobacco']\n",
    "    for col in categorical_cols:\n",
    "        plt.figure(figsize=(8, 8))\n",
    "        sns.countplot(x=col, hue='covid_res', data=df)\n",
    "        plt.title(f'Count Plot for {col} with COVID Result')\n",
    "        plt.xlabel(col)\n",
    "        plt.ylabel('Count')\n",
    "        plt.xticks(rotation=45)\n",
    "        plt.legend(title='COVID Result')\n",
    "        plt.show()\n",
    "\n",
    "        # Call the function with your DataFrame\n",
    "multivariate_analysis(df)"
   ]
  },
  {
   "cell_type": "code",
   "execution_count": 35,
   "metadata": {
    "scrolled": true
   },
   "outputs": [
    {
     "data": {
      "image/png": "[encoded data removed]",
      "text/plain": [
       "<Figure size 576x432 with 1 Axes>"
      ]
     },
     "metadata": {
      "needs_background": "light"
     },
     "output_type": "display_data"
    }
   ],
   "source": [
    "import pandas as pd\n",
    "import matplotlib.pyplot as plt\n",
    "\n",
    "# Assuming 'date_died' column contains dates for individuals who died (NaN for those who did not)\n",
    "# Assuming 'covid_res' column contains values 'Positive' for positive cases and 'Negative' for negative cases\n",
    "\n",
    "# Filter data for positive cases\n",
    "positive_cases = df[df['covid_res'] == 'Positive']\n",
    "\n",
    "# Count the number of people who died and did not die among positive cases\n",
    "death_counts = positive_cases['date_died'].notnull().value_counts()\n",
    "\n",
    "# Plot grouped bar plot\n",
    "death_counts.plot(kind='bar', color=['green', 'red'], figsize=(8, 6))\n",
    "\n",
    "# Set plot labels and title \n",
    "plt.title('Count of People Who Died and Did Not Die Among Positive Cases')\n",
    "plt.xlabel('Outcome')\n",
    "plt.ylabel('Count')\n",
    "\n",
    "# Set x-axis labels\n",
    "plt.xticks(ticks=[0, 1], labels=['Survived', 'Died'], rotation=0)\n",
    "\n",
    "# Show plot\n",
    "plt.tight_layout()\n",
    "plt.show()\n"
   ]
  },
  {
   "cell_type": "markdown",
   "metadata": {},
   "source": [
    "Most of the people that had tested positive survived while those that died were few approximately 400."
   ]
  },
  {
   "cell_type": "markdown",
   "metadata": {},
   "source": [
    "**Multivariate Analysis**"
   ]
  },
  {
   "cell_type": "code",
   "execution_count": 36,
   "metadata": {},
   "outputs": [
    {
     "data": {
      "image/png": "[encoded data removed]",
      "text/plain": [
       "<Figure size 720x432 with 1 Axes>"
      ]
     },
     "metadata": {
      "needs_background": "light"
     },
     "output_type": "display_data"
    }
   ],
   "source": [
    "# Filter data for positive cases\n",
    "positive_cases = df[df['covid_res'] == 'Positive']\n",
    "\n",
    "# Count the number of people who died and survived among positive cases, grouped by pregnancy status\n",
    "grouped_data = positive_cases.groupby(['pregnancy', positive_cases['died'].notnull()]).size().unstack()\n",
    "\n",
    "# Plot grouped bar plot\n",
    "grouped_data.plot(kind='bar', stacked=True, color=['green', 'red'], figsize=(10, 6))\n",
    "\n",
    "# Set plot labels and title\n",
    "plt.title('Positive COVID-19 Outcome and Mortality by Pregnancy Status')\n",
    "plt.xlabel('Pregnancy Status')\n",
    "plt.ylabel('Count');\n"
   ]
  },
  {
   "cell_type": "markdown",
   "metadata": {},
   "source": [
    "Most of the people that were not pregnant and tested positive died"
   ]
  },
  {
   "cell_type": "markdown",
   "metadata": {},
   "source": [
    "## Modelling"
   ]
  },
  {
   "cell_type": "markdown",
   "metadata": {},
   "source": [
    "### Data Preprocessing"
   ]
  },
  {
   "cell_type": "code",
   "execution_count": 37,
   "metadata": {},
   "outputs": [],
   "source": [
    "df['covid_res']= df['covid_res'].replace({'Negative':0, 'Positive':1, 'Awaiting Results':2})"
   ]
  },
  {
   "cell_type": "code",
   "execution_count": 38,
   "metadata": {},
   "outputs": [
    {
     "data": {
      "text/plain": [
       "0    4900\n",
       "1    3806\n",
       "2    1100\n",
       "Name: covid_res, dtype: int64"
      ]
     },
     "execution_count": 38,
     "metadata": {},
     "output_type": "execute_result"
    }
   ],
   "source": [
    "df['covid_res'].value_counts()"
   ]
  },
  {
   "cell_type": "code",
   "execution_count": 39,
   "metadata": {},
   "outputs": [],
   "source": [
    "# Drop rows with value 2 in 'covid_res' column\n",
    "df= df[df['covid_res'] != 2]"
   ]
  },
  {
   "cell_type": "code",
   "execution_count": 40,
   "metadata": {},
   "outputs": [],
   "source": [
    "X=df.drop(['covid_res', 'entry_date', 'date_died', 'pregnancy'], axis=1)\n",
    "y=df['covid_res']\n",
    "# Split the data into training and test sets (assign 20% to test set)\n",
    "X_train,  X_test, y_train, y_test = train_test_split(X, y, random_state=42)\n",
    "\n"
   ]
  },
  {
   "cell_type": "code",
   "execution_count": 41,
   "metadata": {},
   "outputs": [
    {
     "name": "stdout",
     "output_type": "stream",
     "text": [
      "Processed data:\n"
     ]
    },
    {
     "data": {
      "text/html": [
       "<div>\n",
       "<style scoped>\n",
       "    .dataframe tbody tr th:only-of-type {\n",
       "        vertical-align: middle;\n",
       "    }\n",
       "\n",
       "    .dataframe tbody tr th {\n",
       "        vertical-align: top;\n",
       "    }\n",
       "\n",
       "    .dataframe thead th {\n",
       "        text-align: right;\n",
       "    }\n",
       "</style>\n",
       "<table border=\"1\" class=\"dataframe\">\n",
       "  <thead>\n",
       "    <tr style=\"text-align: right;\">\n",
       "      <th></th>\n",
       "      <th>sex_Female</th>\n",
       "      <th>sex_Male</th>\n",
       "      <th>patient_type_Inpatient</th>\n",
       "      <th>patient_type_Outpatient</th>\n",
       "      <th>pneumonia_No</th>\n",
       "      <th>pneumonia_Yes</th>\n",
       "      <th>diabetes_No</th>\n",
       "      <th>diabetes_Yes</th>\n",
       "      <th>copd_No</th>\n",
       "      <th>copd_Yes</th>\n",
       "      <th>...</th>\n",
       "      <th>cardiovascular_Yes</th>\n",
       "      <th>obesity_No</th>\n",
       "      <th>obesity_Yes</th>\n",
       "      <th>renal_chronic_No</th>\n",
       "      <th>renal_chronic_Yes</th>\n",
       "      <th>tobacco_No</th>\n",
       "      <th>tobacco_Yes</th>\n",
       "      <th>date_symptoms</th>\n",
       "      <th>age</th>\n",
       "      <th>died</th>\n",
       "    </tr>\n",
       "  </thead>\n",
       "  <tbody>\n",
       "    <tr>\n",
       "      <th>0</th>\n",
       "      <td>0.0</td>\n",
       "      <td>1.0</td>\n",
       "      <td>1.0</td>\n",
       "      <td>0.0</td>\n",
       "      <td>1.0</td>\n",
       "      <td>0.0</td>\n",
       "      <td>1.0</td>\n",
       "      <td>0.0</td>\n",
       "      <td>1.0</td>\n",
       "      <td>0.0</td>\n",
       "      <td>...</td>\n",
       "      <td>0.0</td>\n",
       "      <td>1.0</td>\n",
       "      <td>0.0</td>\n",
       "      <td>1.0</td>\n",
       "      <td>0.0</td>\n",
       "      <td>1.0</td>\n",
       "      <td>0.0</td>\n",
       "      <td>0.958474</td>\n",
       "      <td>-0.740970</td>\n",
       "      <td>0.0</td>\n",
       "    </tr>\n",
       "    <tr>\n",
       "      <th>1</th>\n",
       "      <td>0.0</td>\n",
       "      <td>1.0</td>\n",
       "      <td>0.0</td>\n",
       "      <td>1.0</td>\n",
       "      <td>1.0</td>\n",
       "      <td>0.0</td>\n",
       "      <td>1.0</td>\n",
       "      <td>0.0</td>\n",
       "      <td>1.0</td>\n",
       "      <td>0.0</td>\n",
       "      <td>...</td>\n",
       "      <td>0.0</td>\n",
       "      <td>0.0</td>\n",
       "      <td>1.0</td>\n",
       "      <td>1.0</td>\n",
       "      <td>0.0</td>\n",
       "      <td>0.0</td>\n",
       "      <td>1.0</td>\n",
       "      <td>-1.880853</td>\n",
       "      <td>-0.621432</td>\n",
       "      <td>0.0</td>\n",
       "    </tr>\n",
       "    <tr>\n",
       "      <th>2</th>\n",
       "      <td>1.0</td>\n",
       "      <td>0.0</td>\n",
       "      <td>0.0</td>\n",
       "      <td>1.0</td>\n",
       "      <td>1.0</td>\n",
       "      <td>0.0</td>\n",
       "      <td>1.0</td>\n",
       "      <td>0.0</td>\n",
       "      <td>1.0</td>\n",
       "      <td>0.0</td>\n",
       "      <td>...</td>\n",
       "      <td>0.0</td>\n",
       "      <td>1.0</td>\n",
       "      <td>0.0</td>\n",
       "      <td>1.0</td>\n",
       "      <td>0.0</td>\n",
       "      <td>1.0</td>\n",
       "      <td>0.0</td>\n",
       "      <td>-0.258380</td>\n",
       "      <td>-0.083515</td>\n",
       "      <td>0.0</td>\n",
       "    </tr>\n",
       "    <tr>\n",
       "      <th>3</th>\n",
       "      <td>0.0</td>\n",
       "      <td>1.0</td>\n",
       "      <td>1.0</td>\n",
       "      <td>0.0</td>\n",
       "      <td>0.0</td>\n",
       "      <td>1.0</td>\n",
       "      <td>1.0</td>\n",
       "      <td>0.0</td>\n",
       "      <td>1.0</td>\n",
       "      <td>0.0</td>\n",
       "      <td>...</td>\n",
       "      <td>0.0</td>\n",
       "      <td>1.0</td>\n",
       "      <td>0.0</td>\n",
       "      <td>1.0</td>\n",
       "      <td>0.0</td>\n",
       "      <td>1.0</td>\n",
       "      <td>0.0</td>\n",
       "      <td>1.769710</td>\n",
       "      <td>1.709543</td>\n",
       "      <td>0.0</td>\n",
       "    </tr>\n",
       "    <tr>\n",
       "      <th>4</th>\n",
       "      <td>0.0</td>\n",
       "      <td>1.0</td>\n",
       "      <td>0.0</td>\n",
       "      <td>1.0</td>\n",
       "      <td>1.0</td>\n",
       "      <td>0.0</td>\n",
       "      <td>1.0</td>\n",
       "      <td>0.0</td>\n",
       "      <td>1.0</td>\n",
       "      <td>0.0</td>\n",
       "      <td>...</td>\n",
       "      <td>0.0</td>\n",
       "      <td>1.0</td>\n",
       "      <td>0.0</td>\n",
       "      <td>1.0</td>\n",
       "      <td>0.0</td>\n",
       "      <td>1.0</td>\n",
       "      <td>0.0</td>\n",
       "      <td>-0.258380</td>\n",
       "      <td>-1.398424</td>\n",
       "      <td>0.0</td>\n",
       "    </tr>\n",
       "  </tbody>\n",
       "</table>\n",
       "<p>5 rows × 29 columns</p>\n",
       "</div>"
      ],
      "text/plain": [
       "   sex_Female  sex_Male  patient_type_Inpatient  patient_type_Outpatient  \\\n",
       "0         0.0       1.0                     1.0                      0.0   \n",
       "1         0.0       1.0                     0.0                      1.0   \n",
       "2         1.0       0.0                     0.0                      1.0   \n",
       "3         0.0       1.0                     1.0                      0.0   \n",
       "4         0.0       1.0                     0.0                      1.0   \n",
       "\n",
       "   pneumonia_No  pneumonia_Yes  diabetes_No  diabetes_Yes  copd_No  copd_Yes  \\\n",
       "0           1.0            0.0          1.0           0.0      1.0       0.0   \n",
       "1           1.0            0.0          1.0           0.0      1.0       0.0   \n",
       "2           1.0            0.0          1.0           0.0      1.0       0.0   \n",
       "3           0.0            1.0          1.0           0.0      1.0       0.0   \n",
       "4           1.0            0.0          1.0           0.0      1.0       0.0   \n",
       "\n",
       "   ...  cardiovascular_Yes  obesity_No  obesity_Yes  renal_chronic_No  \\\n",
       "0  ...                 0.0         1.0          0.0               1.0   \n",
       "1  ...                 0.0         0.0          1.0               1.0   \n",
       "2  ...                 0.0         1.0          0.0               1.0   \n",
       "3  ...                 0.0         1.0          0.0               1.0   \n",
       "4  ...                 0.0         1.0          0.0               1.0   \n",
       "\n",
       "   renal_chronic_Yes  tobacco_No  tobacco_Yes  date_symptoms       age  died  \n",
       "0                0.0         1.0          0.0       0.958474 -0.740970   0.0  \n",
       "1                0.0         0.0          1.0      -1.880853 -0.621432   0.0  \n",
       "2                0.0         1.0          0.0      -0.258380 -0.083515   0.0  \n",
       "3                0.0         1.0          0.0       1.769710  1.709543   0.0  \n",
       "4                0.0         1.0          0.0      -0.258380 -1.398424   0.0  \n",
       "\n",
       "[5 rows x 29 columns]"
      ]
     },
     "execution_count": 41,
     "metadata": {},
     "output_type": "execute_result"
    }
   ],
   "source": [
    "# Define the column transformer for preprocessing\n",
    "preprocessor = ColumnTransformer(\n",
    "    transformers=[\n",
    "#          ('num', SimpleImputer(strategy='most_frequent'), ['pregnancy']), \n",
    "        ('cat', OneHotEncoder(), ['sex', 'patient_type','pneumonia', 'diabetes', 'copd', 'asthma', \n",
    "                                  'inmsupr', 'hypertension', 'other_disease', \n",
    "                                  'cardiovascular', 'obesity', 'renal_chronic', \n",
    "                                  'tobacco']),  # One-hot encode 'sex' and 'patient_type' columns\n",
    "        # Impute missing values in 'pregnancy' column using median  # Logarithmic transformation on 'age' column\n",
    "    ],\n",
    "    remainder='passthrough'  # passthrough any other columns\n",
    ")\n",
    "\n",
    "# Define the pipeline\n",
    "pipeline = ImbPipeline(steps=[('preprocessor', preprocessor)])\n",
    "\n",
    "\n",
    "\n",
    "# Fit and transform the data\n",
    "X_train_processed = pipeline.fit_transform(X_train)\n",
    "\n",
    "# Get the feature names after transformation\n",
    "cat_feature_names = preprocessor.named_transformers_['cat'].get_feature_names(input_features=['sex', 'patient_type','pneumonia', 'diabetes', 'copd', 'asthma', \n",
    "                                  'inmsupr', 'hypertension', 'other_disease', \n",
    "                                  'cardiovascular', 'obesity', 'renal_chronic', \n",
    "                                  'tobacco'])\n",
    "feature_names = list(cat_feature_names) + X_train.columns.drop(['sex', 'patient_type','pneumonia', 'diabetes', 'copd', 'asthma', \n",
    "                                  'inmsupr', 'hypertension', 'other_disease', \n",
    "                                  'cardiovascular', 'obesity', 'renal_chronic', \n",
    "                                  'tobacco']).tolist()\n",
    "\n",
    "# Create DataFrame from transformed data and feature names\n",
    "X_train_processed_df = pd.DataFrame(X_train_processed, columns=feature_names)\n",
    "# Define columns to scale\n",
    "columns_to_scale = ['age','date_symptoms'] \n",
    "\n",
    "# Instantiate StandardScaler\n",
    "scaler = StandardScaler()\n",
    "\n",
    "# Fit and transform the scaler on the specified columns\n",
    "X_train_processed_df[columns_to_scale] = scaler.fit_transform(X_train_processed_df[columns_to_scale])\n",
    "\n",
    "print(\"Processed data:\")\n",
    "X_train_processed_df.head()\n"
   ]
  },
  {
   "cell_type": "code",
   "execution_count": 42,
   "metadata": {},
   "outputs": [
    {
     "name": "stdout",
     "output_type": "stream",
     "text": [
      "Processed test data:\n"
     ]
    },
    {
     "data": {
      "text/html": [
       "<div>\n",
       "<style scoped>\n",
       "    .dataframe tbody tr th:only-of-type {\n",
       "        vertical-align: middle;\n",
       "    }\n",
       "\n",
       "    .dataframe tbody tr th {\n",
       "        vertical-align: top;\n",
       "    }\n",
       "\n",
       "    .dataframe thead th {\n",
       "        text-align: right;\n",
       "    }\n",
       "</style>\n",
       "<table border=\"1\" class=\"dataframe\">\n",
       "  <thead>\n",
       "    <tr style=\"text-align: right;\">\n",
       "      <th></th>\n",
       "      <th>sex_Female</th>\n",
       "      <th>sex_Male</th>\n",
       "      <th>patient_type_Inpatient</th>\n",
       "      <th>patient_type_Outpatient</th>\n",
       "      <th>pneumonia_No</th>\n",
       "      <th>pneumonia_Yes</th>\n",
       "      <th>diabetes_No</th>\n",
       "      <th>diabetes_Yes</th>\n",
       "      <th>copd_No</th>\n",
       "      <th>copd_Yes</th>\n",
       "      <th>...</th>\n",
       "      <th>cardiovascular_Yes</th>\n",
       "      <th>obesity_No</th>\n",
       "      <th>obesity_Yes</th>\n",
       "      <th>renal_chronic_No</th>\n",
       "      <th>renal_chronic_Yes</th>\n",
       "      <th>tobacco_No</th>\n",
       "      <th>tobacco_Yes</th>\n",
       "      <th>date_symptoms</th>\n",
       "      <th>age</th>\n",
       "      <th>died</th>\n",
       "    </tr>\n",
       "  </thead>\n",
       "  <tbody>\n",
       "    <tr>\n",
       "      <th>0</th>\n",
       "      <td>1.0</td>\n",
       "      <td>0.0</td>\n",
       "      <td>0.0</td>\n",
       "      <td>1.0</td>\n",
       "      <td>1.0</td>\n",
       "      <td>0.0</td>\n",
       "      <td>1.0</td>\n",
       "      <td>0.0</td>\n",
       "      <td>1.0</td>\n",
       "      <td>0.0</td>\n",
       "      <td>...</td>\n",
       "      <td>0.0</td>\n",
       "      <td>1.0</td>\n",
       "      <td>0.0</td>\n",
       "      <td>1.0</td>\n",
       "      <td>0.0</td>\n",
       "      <td>1.0</td>\n",
       "      <td>0.0</td>\n",
       "      <td>1.769710</td>\n",
       "      <td>0.155559</td>\n",
       "      <td>0.0</td>\n",
       "    </tr>\n",
       "    <tr>\n",
       "      <th>1</th>\n",
       "      <td>0.0</td>\n",
       "      <td>1.0</td>\n",
       "      <td>1.0</td>\n",
       "      <td>0.0</td>\n",
       "      <td>1.0</td>\n",
       "      <td>0.0</td>\n",
       "      <td>1.0</td>\n",
       "      <td>0.0</td>\n",
       "      <td>1.0</td>\n",
       "      <td>0.0</td>\n",
       "      <td>...</td>\n",
       "      <td>0.0</td>\n",
       "      <td>1.0</td>\n",
       "      <td>0.0</td>\n",
       "      <td>1.0</td>\n",
       "      <td>0.0</td>\n",
       "      <td>1.0</td>\n",
       "      <td>0.0</td>\n",
       "      <td>-0.663998</td>\n",
       "      <td>-0.501895</td>\n",
       "      <td>0.0</td>\n",
       "    </tr>\n",
       "    <tr>\n",
       "      <th>2</th>\n",
       "      <td>0.0</td>\n",
       "      <td>1.0</td>\n",
       "      <td>1.0</td>\n",
       "      <td>0.0</td>\n",
       "      <td>1.0</td>\n",
       "      <td>0.0</td>\n",
       "      <td>1.0</td>\n",
       "      <td>0.0</td>\n",
       "      <td>1.0</td>\n",
       "      <td>0.0</td>\n",
       "      <td>...</td>\n",
       "      <td>0.0</td>\n",
       "      <td>1.0</td>\n",
       "      <td>0.0</td>\n",
       "      <td>0.0</td>\n",
       "      <td>1.0</td>\n",
       "      <td>1.0</td>\n",
       "      <td>0.0</td>\n",
       "      <td>0.147238</td>\n",
       "      <td>1.709543</td>\n",
       "      <td>0.0</td>\n",
       "    </tr>\n",
       "    <tr>\n",
       "      <th>3</th>\n",
       "      <td>0.0</td>\n",
       "      <td>1.0</td>\n",
       "      <td>0.0</td>\n",
       "      <td>1.0</td>\n",
       "      <td>1.0</td>\n",
       "      <td>0.0</td>\n",
       "      <td>1.0</td>\n",
       "      <td>0.0</td>\n",
       "      <td>1.0</td>\n",
       "      <td>0.0</td>\n",
       "      <td>...</td>\n",
       "      <td>0.0</td>\n",
       "      <td>1.0</td>\n",
       "      <td>0.0</td>\n",
       "      <td>1.0</td>\n",
       "      <td>0.0</td>\n",
       "      <td>1.0</td>\n",
       "      <td>0.0</td>\n",
       "      <td>-0.663998</td>\n",
       "      <td>0.753245</td>\n",
       "      <td>0.0</td>\n",
       "    </tr>\n",
       "    <tr>\n",
       "      <th>4</th>\n",
       "      <td>1.0</td>\n",
       "      <td>0.0</td>\n",
       "      <td>0.0</td>\n",
       "      <td>1.0</td>\n",
       "      <td>1.0</td>\n",
       "      <td>0.0</td>\n",
       "      <td>1.0</td>\n",
       "      <td>0.0</td>\n",
       "      <td>1.0</td>\n",
       "      <td>0.0</td>\n",
       "      <td>...</td>\n",
       "      <td>0.0</td>\n",
       "      <td>1.0</td>\n",
       "      <td>0.0</td>\n",
       "      <td>1.0</td>\n",
       "      <td>0.0</td>\n",
       "      <td>1.0</td>\n",
       "      <td>0.0</td>\n",
       "      <td>-0.663998</td>\n",
       "      <td>1.470469</td>\n",
       "      <td>0.0</td>\n",
       "    </tr>\n",
       "  </tbody>\n",
       "</table>\n",
       "<p>5 rows × 29 columns</p>\n",
       "</div>"
      ],
      "text/plain": [
       "   sex_Female  sex_Male  patient_type_Inpatient  patient_type_Outpatient  \\\n",
       "0         1.0       0.0                     0.0                      1.0   \n",
       "1         0.0       1.0                     1.0                      0.0   \n",
       "2         0.0       1.0                     1.0                      0.0   \n",
       "3         0.0       1.0                     0.0                      1.0   \n",
       "4         1.0       0.0                     0.0                      1.0   \n",
       "\n",
       "   pneumonia_No  pneumonia_Yes  diabetes_No  diabetes_Yes  copd_No  copd_Yes  \\\n",
       "0           1.0            0.0          1.0           0.0      1.0       0.0   \n",
       "1           1.0            0.0          1.0           0.0      1.0       0.0   \n",
       "2           1.0            0.0          1.0           0.0      1.0       0.0   \n",
       "3           1.0            0.0          1.0           0.0      1.0       0.0   \n",
       "4           1.0            0.0          1.0           0.0      1.0       0.0   \n",
       "\n",
       "   ...  cardiovascular_Yes  obesity_No  obesity_Yes  renal_chronic_No  \\\n",
       "0  ...                 0.0         1.0          0.0               1.0   \n",
       "1  ...                 0.0         1.0          0.0               1.0   \n",
       "2  ...                 0.0         1.0          0.0               0.0   \n",
       "3  ...                 0.0         1.0          0.0               1.0   \n",
       "4  ...                 0.0         1.0          0.0               1.0   \n",
       "\n",
       "   renal_chronic_Yes  tobacco_No  tobacco_Yes  date_symptoms       age  died  \n",
       "0                0.0         1.0          0.0       1.769710  0.155559   0.0  \n",
       "1                0.0         1.0          0.0      -0.663998 -0.501895   0.0  \n",
       "2                1.0         1.0          0.0       0.147238  1.709543   0.0  \n",
       "3                0.0         1.0          0.0      -0.663998  0.753245   0.0  \n",
       "4                0.0         1.0          0.0      -0.663998  1.470469   0.0  \n",
       "\n",
       "[5 rows x 29 columns]"
      ]
     },
     "execution_count": 42,
     "metadata": {},
     "output_type": "execute_result"
    }
   ],
   "source": [
    "# Transform the test data using the preprocessor pipeline\n",
    "X_test_processed = pipeline.transform(X_test)\n",
    "\n",
    "# Create DataFrame from transformed test data and feature names\n",
    "X_test_processed_df = pd.DataFrame(X_test_processed, columns=feature_names)\n",
    "# Fit and transform the scaler on the specified columns\n",
    "X_test_processed_df[columns_to_scale] = scaler.transform(X_test_processed_df[columns_to_scale])\n",
    "print(\"Processed test data:\")\n",
    "X_test_processed_df.head()"
   ]
  },
  {
   "cell_type": "markdown",
   "metadata": {},
   "source": [
    "### Creating a baseline model to serve as a point of reference.\n"
   ]
  },
  {
   "cell_type": "markdown",
   "metadata": {},
   "source": [
    "In healthcare decisions related to COVID-19, where timely identification and containment of cases are crucial for public health, prioritizing recall might be more important. Ensuring that true positive cases are not missed helps in early detection, isolation, and treatment, ultimately limiting the spread of the virus and mitigating its impact on public health.\n",
    "\n",
    "**True Positives (TP):** The number of observations where the model predicted the test result as positive, and the individual does have COVID-19.\n",
    "\n",
    "**True Negatives (TN):** The number of observations where the model predicted the test result as negative, and the individual is indeed free of COVID-19.\n",
    "\n",
    "**False Positives (FP):** The number of observations where the model predicted the test result as positive, but the individual does not have COVID-19.\n",
    "\n",
    "**False Negatives (FN):** The number of observations where the model predicted the test result as negative, but the individual does have COVID-19."
   ]
  },
  {
   "cell_type": "code",
   "execution_count": 43,
   "metadata": {},
   "outputs": [
    {
     "data": {
      "text/plain": [
       "LogisticRegression(C=1000.0, fit_intercept=False, random_state=42,\n",
       "                   solver='liblinear')"
      ]
     },
     "execution_count": 43,
     "metadata": {},
     "output_type": "execute_result"
    }
   ],
   "source": [
    "logreg=LogisticRegression(fit_intercept=False, C=1e3, solver='liblinear', random_state=42)\n",
    "# Fit the model\n",
    "logreg.fit(X_train_processed,y_train) "
   ]
  },
  {
   "cell_type": "code",
   "execution_count": 44,
   "metadata": {},
   "outputs": [],
   "source": [
    "y_hat_train = logreg.predict(X_train_processed)\n",
    "y_hat_test = logreg.predict(X_test_processed_df)\n",
    "# Calculate the probability scores of each point in the test set\n",
    "# y_score = logreg.decision_function(X_test_processed_df)"
   ]
  },
  {
   "cell_type": "code",
   "execution_count": 45,
   "metadata": {},
   "outputs": [
    {
     "name": "stdout",
     "output_type": "stream",
     "text": [
      "Classification Report:\n",
      "              precision    recall  f1-score   support\n",
      "\n",
      "           0       0.61      0.87      0.72      1195\n",
      "           1       0.68      0.34      0.45       982\n",
      "\n",
      "    accuracy                           0.63      2177\n",
      "   macro avg       0.65      0.60      0.58      2177\n",
      "weighted avg       0.64      0.63      0.60      2177\n",
      "\n",
      "              precision    recall  f1-score   support\n",
      "\n",
      "           0       0.63      0.89      0.74      3705\n",
      "           1       0.68      0.32      0.43      2824\n",
      "\n",
      "    accuracy                           0.64      6529\n",
      "   macro avg       0.65      0.60      0.58      6529\n",
      "weighted avg       0.65      0.64      0.60      6529\n",
      "\n"
     ]
    },
    {
     "data": {
      "image/png": "[encoded data removed]",
      "text/plain": [
       "<Figure size 432x288 with 2 Axes>"
      ]
     },
     "metadata": {
      "needs_background": "light"
     },
     "output_type": "display_data"
    }
   ],
   "source": [
    "# Generate classification report\n",
    "report = classification_report(y_test, y_hat_test)\n",
    "report2 = classification_report(y_train, y_hat_train)\n",
    "print(\"Classification Report:\")\n",
    "print(report)\n",
    "print(report2)\n",
    "cm = confusion_matrix(y_test, y_hat_test)\n",
    "disp = ConfusionMatrixDisplay(confusion_matrix=cm, display_labels=logreg.classes_)\n",
    "disp.plot(cmap='Blues')\n",
    "plt.show(); "
   ]
  },
  {
   "cell_type": "markdown",
   "metadata": {},
   "source": [
    "**Observations**\n",
    "\n",
    "**Accuracy:** The model's accuracy is 63%, indicating the percentage of correctly predicted instances. However, it should be considered alongside other metrics for a complete evaluation.\n",
    "\n",
    "**Precision:** The precision is 68%, implying that more than half of the predicted positive instances are actually true positives.\n",
    "\n",
    "**Recall:** The recall is 34%, indicating the model's ability to correctly identify positive cases among all actual positive cases.\n",
    "\n",
    "**F1 Score:** The F1 score, at 0.453731, represents a moderate balance between precision and recall.\n",
    "\n",
    "**Confusion Matrix :** The confusion matrix provides a detailed breakdown of the model's predictions, including the number of true negatives, false positives, false negatives, and true positives.\n",
    "\n",
    "\n",
    "The confusion matrix provides information on the model's performance in classifying instances. In this case, the confusion matrix reveals the following:\n",
    "\n",
    "**True Negatives (TN):** There are 1039 instances where the model predicted the test result as negative, and the individual is indeed free of COVID-19..\n",
    "\n",
    "**False Positives (FP):** There are 156 instances where the model predicted the test result as positive, but the individual does not have COVID-19.\n",
    "\n",
    "**False Negatives (FN):** There are 653 instances where the model predicted the test result as negative, but the individual does have COVID-19\n",
    "\n",
    "**True Positives (TP):** There are 329 instances where the model predicted the test result as positive, and the individual does have COVID-19.\n",
    "\n",
    "Based on the confusion matrix, it is evident that the model struggles with correctly identifying instances that are actually positive results, as indicated by the relatively high number of false negatives (653). This observation aligns with the low recall score (34%) obtained in the evaluation results.\n"
   ]
  },
  {
   "cell_type": "markdown",
   "metadata": {},
   "source": [
    "#### Logisitic regression with Adaboostclassifier "
   ]
  },
  {
   "cell_type": "code",
   "execution_count": 46,
   "metadata": {},
   "outputs": [
    {
     "name": "stdout",
     "output_type": "stream",
     "text": [
      "0    3705\n",
      "1    2824\n",
      "Name: covid_res, dtype: int64\n",
      "\n",
      "\n",
      "1    3705\n",
      "0    3705\n",
      "Name: covid_res, dtype: int64\n",
      "              precision    recall  f1-score   support\n",
      "\n",
      "           0       0.63      0.72      0.67      1195\n",
      "           1       0.59      0.49      0.54       982\n",
      "\n",
      "    accuracy                           0.62      2177\n",
      "   macro avg       0.61      0.61      0.61      2177\n",
      "weighted avg       0.61      0.62      0.61      2177\n",
      "\n"
     ]
    },
    {
     "data": {
      "image/png": "[encoded data removed]",
      "text/plain": [
       "<Figure size 432x288 with 2 Axes>"
      ]
     },
     "metadata": {
      "needs_background": "light"
     },
     "output_type": "display_data"
    },
    {
     "name": "stdout",
     "output_type": "stream",
     "text": [
      "              precision    recall  f1-score   support\n",
      "\n",
      "           0       0.64      0.73      0.68      3705\n",
      "           1       0.57      0.47      0.52      2824\n",
      "\n",
      "    accuracy                           0.62      6529\n",
      "   macro avg       0.61      0.60      0.60      6529\n",
      "weighted avg       0.61      0.62      0.61      6529\n",
      "\n"
     ]
    }
   ],
   "source": [
    "from sklearn.ensemble import AdaBoostClassifier\n",
    " # Previous original class distribution\n",
    "print(y_train.value_counts()) \n",
    "\n",
    "# Applying SMOTE to handle class imbalance\n",
    "smote = SMOTE(random_state=42, sampling_strategy='auto')\n",
    "X_resampled, y_resampled = smote.fit_resample(X_train_processed, y_train)\n",
    "print('\\n')\n",
    "print(pd.Series(y_resampled).value_counts())\n",
    "\n",
    "# Create the logistic regression base learner\n",
    "base_estimator = LogisticRegression()\n",
    "\n",
    "# Create the AdaBoost classifier with logistic regression as the base learner\n",
    "adaboost_clf = AdaBoostClassifier(base_estimator=base_estimator, n_estimators=50, random_state=42)\n",
    "\n",
    "# Train the AdaBoost classifier on the training data\n",
    "adaboost_clf.fit(X_resampled, y_resampled)\n",
    "\n",
    "# Make predictions on the testing data\n",
    "y_pred1 = adaboost_clf.predict(X_test_processed)\n",
    "\n",
    "# Evaluate the model\n",
    "from sklearn.metrics import classification_report\n",
    "print(classification_report(y_test, y_pred1))\n",
    "cm = confusion_matrix(y_test, y_pred1)\n",
    "disp = ConfusionMatrixDisplay(confusion_matrix=cm, display_labels=logreg.classes_)\n",
    "disp.plot(cmap='Blues')\n",
    "plt.show(); \n",
    "y_hat_t=adaboost_clf.predict(X_train_processed)\n",
    "print(classification_report(y_train, y_hat_t )) "
   ]
  },
  {
   "cell_type": "markdown",
   "metadata": {},
   "source": [
    "#### Observations \n",
    "**Accuracy:**\n",
    "\n",
    "The model's accuracy is 62%, indicating the percentage of correctly predicted instances. While this is slightly above random guessing for a balanced dataset, it should be considered alongside other metrics to understand its real-world performance.\n",
    "\n",
    "**Overall Precision (68%):**\n",
    "This was incorrectly stated in the provided criteria. Correct precision is 59% for class 1 and 63% for class 0.\n",
    "Precision of 59% for positive cases means that more than half of the predicted positive instances are true positives.\n",
    "Recall:\n",
    "\n",
    "**Overall Recall (34%):**\n",
    "This was also incorrectly stated. Correct recall is 49% for class 1 and 72% for class 0.\n",
    "Recall of 49% for positive cases indicates that the model is missing half of the actual positive cases, which is concerning for early detection and containment.\n",
    "F1 Score:\n",
    "\n",
    "**Overall F1 Score (54%):**\n",
    "This was incorrectly stated. Correct F1 score is 0.54 for class 1 and 0.67 for class 0.\n",
    "An F1 score of 0.54 for positive cases represents a moderate balance between precision and recall but indicates room for improvement in both metrics.\n",
    "Confusion Matrix:\n",
    "\n",
    "**True Negatives (TN):** 861 instances where the model predicted the test result as negative, and the individual is indeed free of COVID-19.\n",
    "**False Positives (FP):** 334 instances where the model predicted the test result as positive, but the individual does not have COVID-19\n",
    "\n",
    "**False Negatives (FN):** 500 instances  where the model predicted the test result as negative, but the individual does have COVID-19\n",
    "\n",
    "**True Positives (TP):** 482 instances where the model predicted the test result as positive, and the individual does have COVID-19.\n",
    "\n",
    "**Critical Observations:**\n",
    "\n",
    "The high number of false negatives (500) is problematic, as it indicates many positive cases are not being detected, which can lead to further spread of COVID-19.\n",
    "The confusion matrix aligns with the low recall score (49%) for positive cases, reflecting the model's difficulty in identifying actual positive cases."
   ]
  },
  {
   "cell_type": "markdown",
   "metadata": {},
   "source": [
    "#### GridSearch CV "
   ]
  },
  {
   "cell_type": "code",
   "execution_count": 47,
   "metadata": {
    "scrolled": true
   },
   "outputs": [
    {
     "name": "stdout",
     "output_type": "stream",
     "text": [
      "              precision    recall  f1-score   support\n",
      "\n",
      "           0       0.63      0.71      0.67      1195\n",
      "           1       0.59      0.50      0.54       982\n",
      "\n",
      "    accuracy                           0.62      2177\n",
      "   macro avg       0.61      0.61      0.61      2177\n",
      "weighted avg       0.61      0.62      0.61      2177\n",
      "\n"
     ]
    },
    {
     "data": {
      "image/png": "[encoded data removed]",
      "text/plain": [
       "<Figure size 432x288 with 2 Axes>"
      ]
     },
     "metadata": {
      "needs_background": "light"
     },
     "output_type": "display_data"
    }
   ],
   "source": [
    "# from sklearn.model_selection import GridSearchCV\n",
    "# from sklearn.linear_model import LogisticRegression\n",
    "\n",
    "# Define the hyperparameters grid\n",
    "param_grid = {\n",
    "    'C': [0.001, 0.01, 0.1, 1, 10, 100],  # Regularization parameter\n",
    "    'penalty': ['l1', 'l2']                # Penalty ('l1' for Lasso, 'l2' for Ridge)\n",
    "}\n",
    "\n",
    "# Create the logistic regression classifier\n",
    "clf = LogisticRegression(random_state=42)\n",
    "\n",
    "# Perform grid search with cross-validation\n",
    "grid_search = GridSearchCV(estimator=clf, param_grid=param_grid, cv=5, scoring='f1')\n",
    "\n",
    "# Fit the grid search to the data\n",
    "grid_search.fit(X_resampled, y_resampled)\n",
    "\n",
    "# Get the best parameters\n",
    "best_params = grid_search.best_params_\n",
    "\n",
    "# Evaluate the best model on the testing data\n",
    "best_model = grid_search.best_estimator_\n",
    "y_pred2 = best_model.predict(X_test_processed)\n",
    "\n",
    "# Print the classification report\n",
    "# from sklearn.metrics import classification_report\n",
    "print(classification_report(y_test, y_pred2))\n",
    "cm = confusion_matrix(y_test, y_pred2)\n",
    "disp = ConfusionMatrixDisplay(confusion_matrix=cm, display_labels=logreg.classes_)\n",
    "disp.plot(cmap='Blues')\n",
    "plt.show(); "
   ]
  },
  {
   "cell_type": "markdown",
   "metadata": {},
   "source": [
    "**Accuracy:**\n",
    "\n",
    "The model's accuracy is 62%, meaning that 62% of the total predictions (both positive and negative) are correct\n",
    "\n",
    "**Precision:** The precision is 59%, implying that more than half of the predicted positive instances are actually true positives, but there is still a significant number of false positives.\n",
    "\n",
    "**Recall:** The recall for class 1 indicates that the model misses 50% of the actual positive cases, which is concerning for early detection and containment.\n",
    "\n",
    "**F1 Score:** The F1 score, at 54%, represents a moderate balance between precision and recall.\n",
    "\n",
    "**Detailed Confusion Matrix Evaluation**\n",
    "True Negatives (TN): 849 instances where the model correctly predicted negative cases.\n",
    "\n",
    "**False Positives (FP):** 346 instances where the model incorrectly predicted positive cases (individuals do not have COVID-19 but were predicted as positive).\n",
    "\n",
    "**False Negatives (FN):** 491 instances where the model incorrectly predicted negative cases (individuals have COVID-19 but were predicted as negative).\n",
    "\n",
    "**True Positives (TP):** 491 instances where the model predicted the test result as positive, and the individual does have COVID-19"
   ]
  },
  {
   "cell_type": "markdown",
   "metadata": {},
   "source": [
    "## Decision Trees"
   ]
  },
  {
   "cell_type": "code",
   "execution_count": 48,
   "metadata": {},
   "outputs": [
    {
     "name": "stdout",
     "output_type": "stream",
     "text": [
      "              precision    recall  f1-score   support\n",
      "\n",
      "           0       0.64      0.46      0.54      1195\n",
      "           1       0.51      0.68      0.59       982\n",
      "\n",
      "    accuracy                           0.56      2177\n",
      "   macro avg       0.58      0.57      0.56      2177\n",
      "weighted avg       0.58      0.56      0.56      2177\n",
      "\n"
     ]
    },
    {
     "data": {
      "image/png": "[encoded data removed]",
      "text/plain": [
       "<Figure size 432x288 with 2 Axes>"
      ]
     },
     "metadata": {
      "needs_background": "light"
     },
     "output_type": "display_data"
    }
   ],
   "source": [
    "clf=DecisionTreeClassifier(criterion='gini', max_depth=5)\n",
    "clf.fit(X_resampled, y_resampled)\n",
    "y_pred=clf.predict(X_test_processed) \n",
    "print(classification_report(y_test, y_pred))\n",
    "\n",
    "cm = confusion_matrix(y_test, y_pred)\n",
    "disp = ConfusionMatrixDisplay(confusion_matrix=cm, display_labels=logreg.classes_)\n",
    "disp.plot(cmap='Blues')\n",
    "plt.show();"
   ]
  },
  {
   "cell_type": "markdown",
   "metadata": {},
   "source": [
    "### **Decision Trees with Bagging Performance:**"
   ]
  },
  {
   "cell_type": "code",
   "execution_count": 49,
   "metadata": {},
   "outputs": [
    {
     "name": "stdout",
     "output_type": "stream",
     "text": [
      "Decision Trees with Bagging Performance:\n",
      "              precision    recall  f1-score   support\n",
      "\n",
      "           0       0.63      0.82      0.71      1195\n",
      "           1       0.65      0.40      0.50       982\n",
      "\n",
      "    accuracy                           0.63      2177\n",
      "   macro avg       0.64      0.61      0.60      2177\n",
      "weighted avg       0.63      0.63      0.61      2177\n",
      "\n"
     ]
    },
    {
     "data": {
      "image/png": "[encoded data removed]",
      "text/plain": [
       "<Figure size 432x288 with 2 Axes>"
      ]
     },
     "metadata": {
      "needs_background": "light"
     },
     "output_type": "display_data"
    }
   ],
   "source": [
    "# Decision Tree with bagging\n",
    "bagging_clf = BaggingClassifier(base_estimator=DecisionTreeClassifier(criterion='gini', max_depth=5),\n",
    "                                 n_estimators=10, random_state=42)\n",
    "bagging_clf.fit(X_resampled,y_resampled)  \n",
    "bagging_y_pred = bagging_clf.predict(X_test_processed) \n",
    "\n",
    "print(\"Decision Trees with Bagging Performance:\")\n",
    "print(classification_report(y_test, bagging_y_pred)) \n",
    "cm = confusion_matrix(y_test, bagging_y_pred)\n",
    "disp = ConfusionMatrixDisplay(confusion_matrix=cm, display_labels=logreg.classes_)\n",
    "disp.plot(cmap='Blues')\n",
    "plt.show();\n",
    "\n"
   ]
  },
  {
   "cell_type": "markdown",
   "metadata": {},
   "source": [
    "**Obseravtions**\n",
    "\n",
    "**Accuracy:**\n",
    "The model's accuracy is 63%, meaning that 63% of the total predictions (both positive and negative) are correct.\n",
    "Precision:\n",
    "\n",
    "**precision** for class 1 (positive cases) is 65%, implying that more than half of the predicted positive instances are actually true positives. However, there are still a significant number of false positives, indicated by the relatively high number of false positives (346 instances).\n",
    "\n",
    "**Recall:**\n",
    "The recall for class 1 (positive cases) is 40%, indicating that the model misses 60% of the actual positive cases. This is concerning for early detection and containment of COVID-19, as a high recall is crucial for identifying as many positive cases as possible.\n",
    "\n",
    "**F1 Score:**\n",
    "The F1 score for class 1 (positive cases) is 50%, representing a moderate balance between precision and recall. However, there is room for improvement, particularly in recall.\n",
    "\n",
    "**Confusion Matrix Evaluation**\n",
    "**True Negatives (TN):** 978 instances where the model correctly predicted negative cases.\n",
    "\n",
    "**False Positives (FP):** 217 instances where the model incorrectly predicted positive cases (individuals do not have COVID-19 but were predicted as positive).\n",
    "\n",
    "**False Negatives (FN):** 585 instances where the model incorrectly predicted negative cases (individuals have COVID-19 but were predicted as negative).\n",
    "\n",
    "**True Positives (TP):** 397 instances where the model correctly predicted positive cases.\n",
    "\n",
    "**Critical Observations**\n",
    "High Number of False Negatives (FN): 585 false negatives indicate that the model misses a significant portion of actual positive cases. This poses a risk as it leads to undetected COVID-19 cases, potentially contributing to further spread.\n"
   ]
  },
  {
   "cell_type": "code",
   "execution_count": 50,
   "metadata": {},
   "outputs": [
    {
     "name": "stdout",
     "output_type": "stream",
     "text": [
      "Random Forest with Subspace Sampling Performance:\n",
      "              precision    recall  f1-score   support\n",
      "\n",
      "           0       0.59      0.61      0.60      1195\n",
      "           1       0.50      0.48      0.49       982\n",
      "\n",
      "    accuracy                           0.55      2177\n",
      "   macro avg       0.55      0.55      0.55      2177\n",
      "weighted avg       0.55      0.55      0.55      2177\n",
      "\n"
     ]
    },
    {
     "data": {
      "image/png": "[encoded data removed]",
      "text/plain": [
       "<Figure size 432x288 with 2 Axes>"
      ]
     },
     "metadata": {
      "needs_background": "light"
     },
     "output_type": "display_data"
    }
   ],
   "source": [
    "# Random Forest with subspace sampling (Random Subspaces)\n",
    "subspace_clf = RandomForestClassifier(n_estimators=10, max_features='sqrt', random_state=42)\n",
    "subspace_clf.fit(X_resampled,y_resampled)\n",
    "subspace_y_pred = subspace_clf.predict(X_test_processed)\n",
    "\n",
    "print(\"Random Forest with Subspace Sampling Performance:\")\n",
    "print(classification_report(y_test, subspace_y_pred))\n",
    "\n",
    "cm = confusion_matrix(y_test, subspace_y_pred)\n",
    "disp = ConfusionMatrixDisplay(confusion_matrix=cm, display_labels=logreg.classes_)\n",
    "disp.plot(cmap='Blues')\n",
    "plt.show();"
   ]
  },
  {
   "cell_type": "markdown",
   "metadata": {},
   "source": [
    "\n",
    "\n",
    "**Observations**\n",
    "\n",
    "**True Negatives (TN):** 861 instances where the model correctly predicted negative cases.\n",
    "\n",
    "**False Positives (FP):** 334 instances where the model incorrectly predicted positive cases (individuals do not have COVID-19 but were predicted as positive).\n",
    "\n",
    "**False Negatives (FN):** 500 instances where the model incorrectly predicted negative cases (individuals have COVID-19 but were predicted as negative).\n",
    "\n",
    "**True Positives (TP):** 482 instances where the model correctly predicted positive cases.\n",
    "\n",
    "**Critical Observations**\n",
    "**High Number of False Negatives (FN):** 500 false negatives indicate that the model misses a significant portion of actual positive cases. This poses a risk as it leads to undetected COVID-19 cases, potentially contributing to further spread.\n",
    "Low Recall for Positive Cases: The low recall for positive cases (47%) indicates that the model struggles to identify actual positive cases, which is concerning for early detection and containment of COVID-19."
   ]
  },
  {
   "cell_type": "markdown",
   "metadata": {},
   "source": [
    "### Random Forest with Bagging and Subspace Sampling:"
   ]
  },
  {
   "cell_type": "code",
   "execution_count": 51,
   "metadata": {},
   "outputs": [
    {
     "name": "stdout",
     "output_type": "stream",
     "text": [
      "Random Forest with Bagging and Subspace Sampling Performance:\n",
      "              precision    recall  f1-score   support\n",
      "\n",
      "           0       0.59      0.61      0.60      1195\n",
      "           1       0.51      0.49      0.50       982\n",
      "\n",
      "    accuracy                           0.56      2177\n",
      "   macro avg       0.55      0.55      0.55      2177\n",
      "weighted avg       0.55      0.56      0.56      2177\n",
      "\n"
     ]
    },
    {
     "data": {
      "image/png": "[encoded data removed]",
      "text/plain": [
       "<Figure size 432x288 with 2 Axes>"
      ]
     },
     "metadata": {
      "needs_background": "light"
     },
     "output_type": "display_data"
    }
   ],
   "source": [
    "# Define parameters for Random Forest\n",
    "n_estimators = 15 # Number of trees in the forest\n",
    "max_features = 'sqrt'  # Number of features to consider when looking for the best split\n",
    "\n",
    "# Create a Random Forest classifier\n",
    "rf_clf = RandomForestClassifier(n_estimators=n_estimators, max_features=max_features, random_state=42)\n",
    "\n",
    "# Create a Bagging classifier with Random Forest as the base estimator\n",
    "# bagging_rf_clf = BaggingClassifier(base_estimator=rf_clf, n_estimators=n_estimators, random_state=42)\n",
    "\n",
    "# Fit the ensemble model on training data\n",
    "rf_clf.fit(X_resampled, y_resampled)   \n",
    "\n",
    "# Predict using the ensemble model\n",
    "y_pred_bs = rf_clf.predict(X_test_processed)\n",
    "\n",
    "# Evaluate performance\n",
    "print(\"Random Forest with Bagging and Subspace Sampling Performance:\")\n",
    "print(classification_report(y_test, y_pred_bs))\n",
    "cm = confusion_matrix(y_test, y_pred_bs)\n",
    "disp = ConfusionMatrixDisplay(confusion_matrix=cm, display_labels=logreg.classes_)\n",
    "disp.plot(cmap='Blues')\n",
    "plt.show();"
   ]
  },
  {
   "cell_type": "markdown",
   "metadata": {},
   "source": [
    "**Accuracy:**\n",
    "\n",
    "The model's accuracy is 56%, meaning that 56% of the total predictions (both positive and negative) are correct.This is quite low. This indicates that the model is making a significant number of incorrect predictions\n",
    "\n",
    "**Precision:** The precision is 52%, implying 52% of the predicted positive instances are actually true positives, but there is still a significant number of false positives.\n",
    "\n",
    "**Recall:** The recall for class 1 indicates that the model misses 50% of the actual positive cases.\n",
    "\n",
    "**F1 Score:** The F1 score, at 52%, represents a moderate balance between precision and recall.\n",
    "\n",
    "**Detailed Confusion Matrix Evaluation**\n",
    "True Negatives (TN): 725 instances where the model correctly predicted negative cases.\n",
    "\n",
    "False Positives (FP): 470 instances where the model incorrectly predicted positive cases (individuals do not have COVID-19 but were predicted as positive).\n",
    "\n",
    "False Negatives (FN): 478 instances where the model incorrectly predicted negative cases (individuals have COVID-19 but were predicted as negative).\n",
    "\n",
    "True Positives (TP): 504 instances where the model predicted the test result as positive, and the individual does have COVID-19"
   ]
  },
  {
   "cell_type": "markdown",
   "metadata": {},
   "source": [
    "**Plot for the ROC AUC values of Logistic Regression, Decision Trees**"
   ]
  },
  {
   "cell_type": "code",
   "execution_count": 52,
   "metadata": {},
   "outputs": [
    {
     "data": {
      "image/png": "[encoded data removed]",
      "text/plain": [
       "<Figure size 576x432 with 1 Axes>"
      ]
     },
     "metadata": {
      "needs_background": "light"
     },
     "output_type": "display_data"
    }
   ],
   "source": [
    "from sklearn.metrics import roc_auc_score\n",
    "\n",
    "# Calculate ROC curve for each model\n",
    "fpr, tpr, thresholds = roc_curve(y_test, y_hat_test)\n",
    "fpr1, tpr1, thresholds= roc_curve(y_test, y_pred1)\n",
    "fpr2, tpr2, thresholds= roc_curve(y_test, y_pred2) #gridsearchlr\n",
    "fpr3, tpr3, thresholds = roc_curve(y_test, y_pred)\n",
    "# fpr4, tpr4, _ = roc_curve(y_test, y_pred_rand)\n",
    "fpr5, tpr5, _ = roc_curve(y_test, bagging_y_pred)\n",
    "fpr6, tpr6, _ = roc_curve(y_test, subspace_y_pred)\n",
    "fpr7, tpr7, _ = roc_curve(y_test, y_pred_bs)\n",
    "\n",
    "# Calculate AUC for each model\n",
    "auc = roc_auc_score(y_test, y_hat_test)\n",
    "auc1 = roc_auc_score(y_test, y_pred1)\n",
    "auc2 = roc_auc_score(y_test, y_pred2)\n",
    "auc3 = roc_auc_score(y_test, y_pred)\n",
    "# auc4 = roc_auc_score(y_test, y_pred_rand)\n",
    "auc5 = roc_auc_score(y_test, bagging_y_pred)\n",
    "auc6 = roc_auc_score(y_test, subspace_y_pred)\n",
    "auc7 = roc_auc_score(y_test, y_pred_bs)\n",
    "\n",
    "\n",
    "# Calculate ROC curve for each model\n",
    "\n",
    "# Calculate AUC for each model\n",
    "\n",
    "# Plot ROC curves\n",
    "plt.figure(figsize=(8, 6))\n",
    "plt.plot(fpr, tpr, color='red', lw=2, label=f'Logistic Regression (AUC = {auc:.2f})')\n",
    "\n",
    "# Plot AdaBoost ROC curve\n",
    "plt.plot(fpr1, tpr1, color='black', lw=2, label=f'AdaBoost (AUC = {auc1:.2f})')\n",
    "\n",
    "# Plot Best Model ROC curve\n",
    "plt.plot(fpr2, tpr2, color='green', lw=2, label=f'GridSearchCV (AUC = {auc2:.2f})')\n",
    "\n",
    "# Plot DecisionTreeClassifier ROC curve\n",
    "plt.plot(fpr3, tpr3, color='blue', lw=2, label=f'DecisionTreeClassifier (AUC = {auc3:.2f})')\n",
    "\n",
    "# Plot RandomSearchCV ROC curve\n",
    "# plt.plot(fpr1, tpr1, color='red', lw=2, label=f'RandomSearchCV (AUC = {auc4:.2f})') \n",
    "\n",
    "# Plot Bagging ROC curve\n",
    "plt.plot(fpr5, tpr5, color='green', lw=2, label=f'Bagging (AUC = {auc5:.2f})')\n",
    "\n",
    "# Plot Subspace Sampling ROC curve\n",
    "plt.plot(fpr6, tpr6, color='purple', lw=2, label=f'Subspace Sampling (AUC = {auc6:.2f})')\n",
    "\n",
    "# Plot GridSearchLR ROC curve\n",
    "plt.plot(fpr7, tpr7, color='orange', lw=2, label=f'Bagging & Subspace sampling (AUC = {auc7:.2f})')\n",
    "\n",
    "\n",
    "# Plot the random guess line\n",
    "plt.plot([0, 1], [0, 1], color='gray', linestyle='--')\n",
    "\n",
    "plt.xlabel('False Positive Rate')\n",
    "plt.ylabel('True Positive Rate')\n",
    "plt.title('Receiver Operating Characteristic (ROC) Curve')\n",
    "plt.legend(loc='lower right')\n",
    "plt.grid(True)\n",
    "plt.show()\n"
   ]
  },
  {
   "cell_type": "markdown",
   "metadata": {},
   "source": [
    "### Best Model : Logistic Regression with GridSearchCV \n",
    "Logistic Regression with GridSearchCV  appears to be the best performer among the models in predicting the highest percentage \n",
    "of positive cases with a recall of 50%.It also has on of the best ROC of 61% This means that individuals who actually have the virus are more likely to be identified correctly. This would be the best Model for the Ministry of Health to ensure:\n",
    "\n",
    "Accurate case predictions support the planning and distribution of healthcare resources like hospital beds, ventilators, and medical staff.\n",
    "Identification of  high-risk groups and optimizing vaccine distribution."
   ]
  },
  {
   "cell_type": "markdown",
   "metadata": {},
   "source": [
    "### Feature Importance\n",
    "The Best perofroming Model was Logistic Regression with GridSearchCV . Below is a rank of the features of importance:"
   ]
  },
  {
   "cell_type": "code",
   "execution_count": 53,
   "metadata": {
    "scrolled": false
   },
   "outputs": [
    {
     "data": {
      "image/png": "[encoded data removed]",
      "text/plain": [
       "<Figure size 720x576 with 1 Axes>"
      ]
     },
     "metadata": {
      "needs_background": "light"
     },
     "output_type": "display_data"
    }
   ],
   "source": [
    "\n",
    "import pandas as pd\n",
    "\n",
    "coefficients = best_model.coef_[0]\n",
    "features = X_train_processed_df.columns\n",
    "\n",
    "# Create a DataFrame to hold feature names and their corresponding coefficients\n",
    "importance_df = pd.DataFrame({'Feature': features, 'Coefficient': coefficients})\n",
    "\n",
    "# Absolute value of coefficients to understand the magnitude of importance\n",
    "importance_df['Importance'] = importance_df['Coefficient'].abs()\n",
    "\n",
    "# Sort by the importance\n",
    "importance_df = importance_df.sort_values(by='Importance', ascending=False)\n",
    "\n",
    "# print(importance_df)\n",
    "import seaborn as sns\n",
    "import matplotlib.pyplot as plt\n",
    "\n",
    "# Plot the feature importances using seaborn\n",
    "plt.figure(figsize=(10, 8))\n",
    "sns.barplot(x='Importance', y='Feature', data=importance_df, palette='viridis')\n",
    "plt.xlabel('Importance')\n",
    "plt.title('Feature Importances Ranking for Covid_19 cases')\n",
    "plt.show()\n"
   ]
  },
  {
   "cell_type": "markdown",
   "metadata": {},
   "source": [
    "**The Most important features for predicting Covid19 positive results are:**\n",
    "\n",
    "\n",
    "age\n",
    "\n",
    "patient_type_Inpatient\n",
    "\n",
    "patient_type_Outpatient\n",
    "\n",
    "date_symptoms\n",
    "\n",
    "pneumonia_yes\n",
    "\n",
    "pneumonia_no\n",
    "\n",
    "died "
   ]
  },
  {
   "cell_type": "markdown",
   "metadata": {},
   "source": [
    "\n",
    "\n",
    "## Conclusion and Recomendations\n",
    " * Prioritize vaccination for older adults, as age is a significant predictor of severe COVID-19 outcomes.\n",
    "\n",
    "* Prioritize allocation of hospital beds and ventilators to facilities handling a higher proportion of inpatients, as these patients are more likely to have severe cases.\n",
    "\n",
    "* Ensure that hospitals with a high number of inpatients are adequately staffed with specialized healthcare professionals.\n",
    "\n",
    "* Respiratory Support: Provide adequate respiratory support, including supplemental oxygen and ventilators, for patients with pneumonia.\n",
    "\n",
    "* Implement aggressive testing and contact tracing strategies for individuals who report early onset of symptoms to quickly identify and isolate positive cases.\n",
    " \n",
    "* Conduct thorough reviews of mortality cases to identify factors leading to severe outcomes and improve treatment protocols.\n",
    "\n"
   ]
  },
  {
   "cell_type": "markdown",
   "metadata": {},
   "source": [
    "\n",
    "### Limitations\n",
    "The dataset used in the case study was constrained by limited information. Key factors like vaccination status, geographic location, behavioral aspects such as mask-wearing, symptom severity, and genetic history could significantly enhance accuracy and predictive capabilities.Some features also had a large percetage of missing values."
   ]
  }
 ],
 "metadata": {
  "kernelspec": {
   "display_name": "Python (learn-env)",
   "language": "python",
   "name": "learn-env"
  },
  "language_info": {
   "codemirror_mode": {
    "name": "ipython",
    "version": 3
   },
   "file_extension": ".py",
   "mimetype": "text/x-python",
   "name": "python",
   "nbconvert_exporter": "python",
   "pygments_lexer": "ipython3",
   "version": "3.8.5"
  }
 },
 "nbformat": 4,
 "nbformat_minor": 4
}
